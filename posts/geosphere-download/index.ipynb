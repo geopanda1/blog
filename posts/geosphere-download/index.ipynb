{
 "cells": [
  {
   "cell_type": "markdown",
   "id": "a8b1bb95",
   "metadata": {},
   "source": [
    "---\n",
    "title: LWD Tirol Meteo Download Package\n",
    "date: 2025-04-08\n",
    "format:\n",
    "    html:\n",
    "        code-fold: false\n",
    "---\n",
    "\n",
    "\n",
    "This package is meant to facilitate download meteorological data from the Geosphere (formerly ZAMG) Austria data hub. \n",
    "\n",
    "\n",
    "[Package link](https://git.uibk.ac.at/rslab/geospheredl)"
   ]
  },
  {
   "cell_type": "code",
   "execution_count": 1,
   "id": "e97b9c0c",
   "metadata": {},
   "outputs": [],
   "source": [
    "from pathlib import Path\n",
    "import os"
   ]
  },
  {
   "cell_type": "code",
   "execution_count": 2,
   "id": "bb7d3eda",
   "metadata": {},
   "outputs": [
    {
     "name": "stdout",
     "output_type": "stream",
     "text": [
      "Python 3.13.1\n",
      "0\n"
     ]
    }
   ],
   "source": [
    "print(os.system(\"python --version\"))"
   ]
  }
 ],
 "metadata": {
  "kernelspec": {
   "display_name": "satpy",
   "language": "python",
   "name": "python3"
  },
  "language_info": {
   "codemirror_mode": {
    "name": "ipython",
    "version": 3
   },
   "file_extension": ".py",
   "mimetype": "text/x-python",
   "name": "python",
   "nbconvert_exporter": "python",
   "pygments_lexer": "ipython3",
   "version": "3.13.1"
  }
 },
 "nbformat": 4,
 "nbformat_minor": 5
}
