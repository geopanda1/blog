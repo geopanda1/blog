{
 "cells": [
  {
   "cell_type": "markdown",
   "id": "a8b1bb95",
   "metadata": {},
   "source": [
    "---\n",
    "title: High-resolution elevation data for Tyrol\n",
    "date: 2025-04-28\n",
    "categories: [python-package, data-download]\n",
    "image: \"lines.png\"\n",
    "description: \"Python package for downloading DEM tiles at 50 cm resolution for Tyrol\"\n",
    "---\n",
    "\n",
    "Package to download elevation data for the State of Tyrol (Austria) with a spatial resolution of 50 cm. The dataset and the lower resolution products all are available for free under the [CC BY 4.0](https://creativecommons.org/licenses/by/4.0/) license [here](https://www.data.gv.at/katalog/dataset/0454f5f3-1d8c-464e-847d-541901eb021a#resources). There is also a WCS for the 50 cm dataset, which, depending on the goal, might be easier to use than this package.\n",
    "\n",
    "[{{< bi gitlab >}} Link to Gitlab Repo](https://git.uibk.ac.at/rslab/tiroldem)"
   ]
  },
  {
   "cell_type": "code",
   "execution_count": 1,
   "id": "e97b9c0c",
   "metadata": {},
   "outputs": [],
   "source": [
    "from pathlib import Path\n",
    "import os"
   ]
  },
  {
   "cell_type": "code",
   "execution_count": 2,
   "id": "bb7d3eda",
   "metadata": {},
   "outputs": [
    {
     "name": "stdout",
     "output_type": "stream",
     "text": [
      "Python 3.13.1\n",
      "0\n"
     ]
    }
   ],
   "source": [
    "print(os.system(\"python --version\"))"
   ]
  }
 ],
 "metadata": {
  "kernelspec": {
   "display_name": "satpy",
   "language": "python",
   "name": "python3"
  },
  "language_info": {
   "codemirror_mode": {
    "name": "ipython",
    "version": 3
   },
   "file_extension": ".py",
   "mimetype": "text/x-python",
   "name": "python",
   "nbconvert_exporter": "python",
   "pygments_lexer": "ipython3",
   "version": "3.13.1"
  }
 },
 "nbformat": 4,
 "nbformat_minor": 5
}
