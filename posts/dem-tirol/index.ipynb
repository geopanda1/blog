{
 "cells": [
  {
   "cell_type": "markdown",
   "id": "a8b1bb95",
   "metadata": {},
   "source": [
    "---\n",
    "title: High-resolution elevation data for Tyrol\n",
    "date: 2025-04-28\n",
    "categories: [python-package, data-download]\n",
    "image: \"lines.png\"\n",
    "description: \"Python package for downloading DEM tiles at 50 cm resolution for Tyrol\"\n",
    "---\n",
    "\n",
    "Package to download elevation data for the State of Tyrol (Austria) with a spatial resolution of 50 cm. This dataset and all the lower resolution products all are available for free under the [CC BY 4.0](https://creativecommons.org/licenses/by/4.0/) license [here](https://www.data.gv.at/katalog/dataset/0454f5f3-1d8c-464e-847d-541901eb021a#resources). There is also a WCS for the 50 cm dataset, which, depending on the goal, might be easier to use than this package.\n",
    "\n",
    "[{{< bi gitlab >}} Link to Gitlab Repo](https://git.uibk.ac.at/rslab/tiroldem)"
   ]
  },
  {
   "cell_type": "code",
   "execution_count": 1,
   "id": "e97b9c0c",
   "metadata": {},
   "outputs": [],
   "source": [
    "import sys\n",
    "from pathlib import Path\n",
    "import tiroldem as tdem"
   ]
  },
  {
   "cell_type": "code",
   "execution_count": 2,
   "id": "a9161e8b",
   "metadata": {},
   "outputs": [
    {
     "name": "stdout",
     "output_type": "stream",
     "text": [
      "3.13.1 | packaged by conda-forge | (main, Dec  5 2024, 21:23:54) [GCC 13.3.0]\n",
      "0.1.0\n"
     ]
    }
   ],
   "source": [
    "print(sys.version)\n",
    "print(tdem.__version__)"
   ]
  },
  {
   "cell_type": "markdown",
   "id": "44708073",
   "metadata": {},
   "source": [
    "### Define area of interest"
   ]
  },
  {
   "cell_type": "code",
   "execution_count": null,
   "id": "3c439928",
   "metadata": {},
   "outputs": [],
   "source": [
    "crs = 25832\n",
    "\n",
    "p1 = (654360.437,5214275.175)\n",
    "p2 = (654360.437,5208326.626)\n",
    "p3 = (664226.125,5208326.626)\n",
    "p4 = (664226.125,5214275.175)\n",
    "\n",
    "shape = [p1, p2, p3, p4]"
   ]
  },
  {
   "cell_type": "markdown",
   "id": "be6df087",
   "metadata": {},
   "source": [
    "### Download individual tiles"
   ]
  },
  {
   "cell_type": "code",
   "execution_count": null,
   "id": "bb7d3eda",
   "metadata": {},
   "outputs": [],
   "source": [
    "tiles_per_region = tdem.get_intersecting_tiles(shape, crs=crs)\n",
    "\n",
    "# tiles are returned by region\n",
    "region = \"gk-west\"\n",
    "tiles = tiles_per_region[region]\n",
    "\n",
    "# specify output directory\n",
    "out_dir = Path(\"...\")\n",
    "\n",
    "tdem.download_tiles(tiles, out_dir, region)"
   ]
  },
  {
   "cell_type": "markdown",
   "id": "8a1eb776",
   "metadata": {},
   "source": [
    "### Merging individual tiles after downloading\n",
    "\n",
    "Various ways exist to merge individual tiles, which is the reason this is not covered by the package. A simple way is to use [`gdal_merge.py`](https://gdal.org/en/stable/programs/gdal_merge.html#gdal-merge) included in the  [gdal command line utilities](https://gdal.org/en/stable/programs/index.html) (which likely are already available if the gdal package is installed in the current python environment):\n",
    "`gdal_merge -o dem_merged.tif -n <no_data_value_in> -a_nodata <no_data_value_out> dgm*.tif`"
   ]
  }
 ],
 "metadata": {
  "kernelspec": {
   "display_name": "satpy",
   "language": "python",
   "name": "python3"
  },
  "language_info": {
   "codemirror_mode": {
    "name": "ipython",
    "version": 3
   },
   "file_extension": ".py",
   "mimetype": "text/x-python",
   "name": "python",
   "nbconvert_exporter": "python",
   "pygments_lexer": "ipython3",
   "version": "3.13.1"
  }
 },
 "nbformat": 4,
 "nbformat_minor": 5
}
