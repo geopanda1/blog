{
    "cells": [
        {
            "cell_type": "markdown",
            "metadata": {},
            "source": [
                "---\n",
                "title: \"Lazy resampling\"\n",
                "# categories: [xarray]\n",
                "# date: 2025-04-25\n",
                "---\n",
                "\n",
                "Example on how to lazily resample a `xarray.Dataset` or `xarray.DataArray` with dask using `odc.geo.xr.xr_reproject`"
            ]
        },
        {
            "cell_type": "code",
            "execution_count": 1,
            "metadata": {},
            "outputs": [],
            "source": [
                "import sys\n",
                "import numpy as np\n",
                "import xarray as xr\n",
                "from rasterio.enums import Resampling\n",
                "import odc.geo\n",
                "from odc.geo.xr import xr_reproject\n",
                "from odc.geo.geobox import GeoBox, BoundingBox"
            ]
        },
        {
            "cell_type": "code",
            "execution_count": 2,
            "metadata": {},
            "outputs": [
                {
                    "name": "stdout",
                    "output_type": "stream",
                    "text": [
                        "3.13.1 | packaged by conda-forge | (main, Dec  5 2024, 21:23:54) [GCC 13.3.0]\n",
                        "2025.3.1\n",
                        "0.4.10\n"
                    ]
                }
            ],
            "source": [
                "print(sys.version)\n",
                "print(xr.__version__)\n",
                "print(odc.geo.__version__)"
            ]
        },
        {
            "cell_type": "markdown",
            "metadata": {},
            "source": [
                "The following function is only to simluate that the crs, while initially present on the opened dataset, can get lost easily along the way in workflows, leading to the reprojection to fail. This is not a shortcoming of xarray or `xr_reproject`, but I want to document it, as this happened to me several times before."
            ]
        },
        {
            "cell_type": "code",
            "execution_count": 3,
            "metadata": {},
            "outputs": [],
            "source": [
                "def replace_2_by_0(da: xr.DataArray) -> xr.DataArray:\n",
                "    \"\"\"Replace 2s by 0\"\"\"\n",
                "    return da.where(da != 2, 0)"
            ]
        },
        {
            "cell_type": "code",
            "execution_count": 4,
            "metadata": {},
            "outputs": [],
            "source": [
                "ds_webcam = xr.open_zarr(\"./data/webcam_snow_cover.zarr\")"
            ]
        },
        {
            "cell_type": "code",
            "execution_count": 5,
            "metadata": {},
            "outputs": [],
            "source": [
                "ds_webcam[\"nodata\"] = np.nan"
            ]
        },
        {
            "cell_type": "markdown",
            "metadata": {},
            "source": [
                "### Check that important info on crs is present"
            ]
        },
        {
            "cell_type": "code",
            "execution_count": 6,
            "metadata": {},
            "outputs": [],
            "source": [
                "assert ds_webcam.odc.geobox"
            ]
        },
        {
            "cell_type": "code",
            "execution_count": 7,
            "metadata": {},
            "outputs": [],
            "source": [
                "assert ds_webcam.odc.crs"
            ]
        },
        {
            "cell_type": "markdown",
            "metadata": {},
            "source": [
                "### Construct geobox needed for `xr_reproject`"
            ]
        },
        {
            "cell_type": "code",
            "execution_count": 8,
            "metadata": {},
            "outputs": [],
            "source": [
                "xmin, xmax = 656320.0, 661020.0\n",
                "ymax, ymin = 5213480.0, 5209240.0\n",
                "\n",
                "lower_res = 20 # target resolution in meters\n",
                "\n",
                "epsg_code = 25832"
            ]
        },
        {
            "cell_type": "code",
            "execution_count": 9,
            "metadata": {},
            "outputs": [],
            "source": [
                "bbox = BoundingBox(left=xmin, top=ymax, bottom=ymin, right=xmax)\n",
                "geobox = GeoBox.from_bbox(bbox=bbox, crs=epsg_code, resolution=lower_res)"
            ]
        },
        {
            "cell_type": "markdown",
            "metadata": {},
            "source": [
                "### Perform computation on dataset\n",
                "\n",
                "I sometimes use `xr.DataArray` objects in computations. It is easy to oversee that the data array (here `ds_webcam.snow_cover`) does not inherit or carry over all the important information (`.odc.crs` and `.odc.geobox`) present on the parent dataset object (`ds_webcam`) when used in computations."
            ]
        },
        {
            "cell_type": "code",
            "execution_count": 10,
            "metadata": {},
            "outputs": [],
            "source": [
                "# perform the dummy operation\n",
                "snow_cover = replace_2_by_0(ds_webcam.snow_cover)"
            ]
        },
        {
            "cell_type": "code",
            "execution_count": null,
            "metadata": {},
            "outputs": [
                {
                    "name": "stderr",
                    "output_type": "stream",
                    "text": [
                        "/home/<user>/miniconda3/envs/satpy/lib/python3.13/site-packages/odc/geo/_xr_interop.py:503: UserWarning: grid_mapping=spatial_ref is not pointing to valid coordinate\n",
                        "  warnings.warn(\n"
                    ]
                }
            ],
            "source": [
                "# geobox is present!\n",
                "assert snow_cover.odc.geobox"
            ]
        },
        {
            "cell_type": "code",
            "execution_count": 12,
            "metadata": {},
            "outputs": [],
            "source": [
                "# but the crs is not (as the above warning indicates)\n",
                "snow_cover.odc.crs"
            ]
        },
        {
            "cell_type": "markdown",
            "metadata": {},
            "source": [
                "To me this was initially counter intuitive, as the parent dataset has the complete information:"
            ]
        },
        {
            "cell_type": "code",
            "execution_count": 13,
            "metadata": {},
            "outputs": [
                {
                    "data": {
                        "text/plain": [
                            "CRS('PROJCS[\"ETRS89 / UTM zone 32N\",GEOGCS[\"ETRS89\",DATUM[\"European_Terrestrial_Reference_System_1989\",SPHEROID[\"GRS 1980\",6378137,298.257222101,AUTHORITY[\"EPSG\",\"7019\"]],AUTHORITY[\"EPSG\",\"6258\"]],PRIMEM[\"Greenwich\",0,AUTHORITY[\"EPSG\",\"8901\"]],UNIT[\"degree\",0.0174532925199433,AUTHORITY[\"EPSG\",\"9122\"]],AUTHORITY[\"EPSG\",\"4258\"]],PROJECTION[\"Transverse_Mercator\"],PARAMETER[\"latitude_of_origin\",0],PARAMETER[\"central_meridian\",9],PARAMETER[\"scale_factor\",0.9996],PARAMETER[\"false_easting\",500000],PARAMETER[\"false_northing\",0],UNIT[\"metre\",1,AUTHORITY[\"EPSG\",\"9001\"]],AXIS[\"Easting\",EAST],AXIS[\"Northing\",NORTH],AUTHORITY[\"EPSG\",\"25832\"]]')"
                        ]
                    },
                    "execution_count": 13,
                    "metadata": {},
                    "output_type": "execute_result"
                }
            ],
            "source": [
                "ds_webcam.odc.crs"
            ]
        },
        {
            "cell_type": "markdown",
            "metadata": {},
            "source": [
                "Let's fix that:"
            ]
        },
        {
            "cell_type": "code",
            "execution_count": 14,
            "metadata": {},
            "outputs": [],
            "source": [
                "snow_cover = snow_cover.odc.assign_crs(\"epsg:25832\")"
            ]
        },
        {
            "cell_type": "markdown",
            "metadata": {},
            "source": [
                "### Check source no data value and set correctly"
            ]
        },
        {
            "cell_type": "code",
            "execution_count": 15,
            "metadata": {},
            "outputs": [],
            "source": [
                "# show that nodata attribute is missing\n",
                "assert getattr(snow_cover, \"nodata\", None) is None"
            ]
        },
        {
            "cell_type": "code",
            "execution_count": 16,
            "metadata": {},
            "outputs": [],
            "source": [
                "# add nodata attribute\n",
                "snow_cover[\"nodata\"] = np.nan"
            ]
        },
        {
            "cell_type": "markdown",
            "metadata": {},
            "source": [
                "### Perform lazy resampling"
            ]
        },
        {
            "cell_type": "code",
            "execution_count": 17,
            "metadata": {},
            "outputs": [],
            "source": [
                "snow_cover_downsampled = xr_reproject(snow_cover, geobox, resampling=Resampling.mode)\n",
                "snow_cover_downsampled.name = \"snow_cover\""
            ]
        },
        {
            "cell_type": "markdown",
            "metadata": {},
            "source": [
                "Which returns a dask-backed dataarray:"
            ]
        },
        {
            "cell_type": "code",
            "execution_count": 18,
            "metadata": {},
            "outputs": [
                {
                    "data": {
                        "text/html": [
                            "<div><svg style=\"position: absolute; width: 0; height: 0; overflow: hidden\">\n",
                            "<defs>\n",
                            "<symbol id=\"icon-database\" viewBox=\"0 0 32 32\">\n",
                            "<path d=\"M16 0c-8.837 0-16 2.239-16 5v4c0 2.761 7.163 5 16 5s16-2.239 16-5v-4c0-2.761-7.163-5-16-5z\"></path>\n",
                            "<path d=\"M16 17c-8.837 0-16-2.239-16-5v6c0 2.761 7.163 5 16 5s16-2.239 16-5v-6c0 2.761-7.163 5-16 5z\"></path>\n",
                            "<path d=\"M16 26c-8.837 0-16-2.239-16-5v6c0 2.761 7.163 5 16 5s16-2.239 16-5v-6c0 2.761-7.163 5-16 5z\"></path>\n",
                            "</symbol>\n",
                            "<symbol id=\"icon-file-text2\" viewBox=\"0 0 32 32\">\n",
                            "<path d=\"M28.681 7.159c-0.694-0.947-1.662-2.053-2.724-3.116s-2.169-2.030-3.116-2.724c-1.612-1.182-2.393-1.319-2.841-1.319h-15.5c-1.378 0-2.5 1.121-2.5 2.5v27c0 1.378 1.122 2.5 2.5 2.5h23c1.378 0 2.5-1.122 2.5-2.5v-19.5c0-0.448-0.137-1.23-1.319-2.841zM24.543 5.457c0.959 0.959 1.712 1.825 2.268 2.543h-4.811v-4.811c0.718 0.556 1.584 1.309 2.543 2.268zM28 29.5c0 0.271-0.229 0.5-0.5 0.5h-23c-0.271 0-0.5-0.229-0.5-0.5v-27c0-0.271 0.229-0.5 0.5-0.5 0 0 15.499-0 15.5 0v7c0 0.552 0.448 1 1 1h7v19.5z\"></path>\n",
                            "<path d=\"M23 26h-14c-0.552 0-1-0.448-1-1s0.448-1 1-1h14c0.552 0 1 0.448 1 1s-0.448 1-1 1z\"></path>\n",
                            "<path d=\"M23 22h-14c-0.552 0-1-0.448-1-1s0.448-1 1-1h14c0.552 0 1 0.448 1 1s-0.448 1-1 1z\"></path>\n",
                            "<path d=\"M23 18h-14c-0.552 0-1-0.448-1-1s0.448-1 1-1h14c0.552 0 1 0.448 1 1s-0.448 1-1 1z\"></path>\n",
                            "</symbol>\n",
                            "</defs>\n",
                            "</svg>\n",
                            "<style>/* CSS stylesheet for displaying xarray objects in jupyterlab.\n",
                            " *\n",
                            " */\n",
                            "\n",
                            ":root {\n",
                            "  --xr-font-color0: var(--jp-content-font-color0, rgba(0, 0, 0, 1));\n",
                            "  --xr-font-color2: var(--jp-content-font-color2, rgba(0, 0, 0, 0.54));\n",
                            "  --xr-font-color3: var(--jp-content-font-color3, rgba(0, 0, 0, 0.38));\n",
                            "  --xr-border-color: var(--jp-border-color2, #e0e0e0);\n",
                            "  --xr-disabled-color: var(--jp-layout-color3, #bdbdbd);\n",
                            "  --xr-background-color: var(--jp-layout-color0, white);\n",
                            "  --xr-background-color-row-even: var(--jp-layout-color1, white);\n",
                            "  --xr-background-color-row-odd: var(--jp-layout-color2, #eeeeee);\n",
                            "}\n",
                            "\n",
                            "html[theme=\"dark\"],\n",
                            "html[data-theme=\"dark\"],\n",
                            "body[data-theme=\"dark\"],\n",
                            "body.vscode-dark {\n",
                            "  --xr-font-color0: rgba(255, 255, 255, 1);\n",
                            "  --xr-font-color2: rgba(255, 255, 255, 0.54);\n",
                            "  --xr-font-color3: rgba(255, 255, 255, 0.38);\n",
                            "  --xr-border-color: #1f1f1f;\n",
                            "  --xr-disabled-color: #515151;\n",
                            "  --xr-background-color: #111111;\n",
                            "  --xr-background-color-row-even: #111111;\n",
                            "  --xr-background-color-row-odd: #313131;\n",
                            "}\n",
                            "\n",
                            ".xr-wrap {\n",
                            "  display: block !important;\n",
                            "  min-width: 300px;\n",
                            "  max-width: 700px;\n",
                            "}\n",
                            "\n",
                            ".xr-text-repr-fallback {\n",
                            "  /* fallback to plain text repr when CSS is not injected (untrusted notebook) */\n",
                            "  display: none;\n",
                            "}\n",
                            "\n",
                            ".xr-header {\n",
                            "  padding-top: 6px;\n",
                            "  padding-bottom: 6px;\n",
                            "  margin-bottom: 4px;\n",
                            "  border-bottom: solid 1px var(--xr-border-color);\n",
                            "}\n",
                            "\n",
                            ".xr-header > div,\n",
                            ".xr-header > ul {\n",
                            "  display: inline;\n",
                            "  margin-top: 0;\n",
                            "  margin-bottom: 0;\n",
                            "}\n",
                            "\n",
                            ".xr-obj-type,\n",
                            ".xr-array-name {\n",
                            "  margin-left: 2px;\n",
                            "  margin-right: 10px;\n",
                            "}\n",
                            "\n",
                            ".xr-obj-type {\n",
                            "  color: var(--xr-font-color2);\n",
                            "}\n",
                            "\n",
                            ".xr-sections {\n",
                            "  padding-left: 0 !important;\n",
                            "  display: grid;\n",
                            "  grid-template-columns: 150px auto auto 1fr 0 20px 0 20px;\n",
                            "}\n",
                            "\n",
                            ".xr-section-item {\n",
                            "  display: contents;\n",
                            "}\n",
                            "\n",
                            ".xr-section-item input {\n",
                            "  display: inline-block;\n",
                            "  opacity: 0;\n",
                            "  height: 0;\n",
                            "}\n",
                            "\n",
                            ".xr-section-item input + label {\n",
                            "  color: var(--xr-disabled-color);\n",
                            "}\n",
                            "\n",
                            ".xr-section-item input:enabled + label {\n",
                            "  cursor: pointer;\n",
                            "  color: var(--xr-font-color2);\n",
                            "}\n",
                            "\n",
                            ".xr-section-item input:focus + label {\n",
                            "  border: 2px solid var(--xr-font-color0);\n",
                            "}\n",
                            "\n",
                            ".xr-section-item input:enabled + label:hover {\n",
                            "  color: var(--xr-font-color0);\n",
                            "}\n",
                            "\n",
                            ".xr-section-summary {\n",
                            "  grid-column: 1;\n",
                            "  color: var(--xr-font-color2);\n",
                            "  font-weight: 500;\n",
                            "}\n",
                            "\n",
                            ".xr-section-summary > span {\n",
                            "  display: inline-block;\n",
                            "  padding-left: 0.5em;\n",
                            "}\n",
                            "\n",
                            ".xr-section-summary-in:disabled + label {\n",
                            "  color: var(--xr-font-color2);\n",
                            "}\n",
                            "\n",
                            ".xr-section-summary-in + label:before {\n",
                            "  display: inline-block;\n",
                            "  content: \"►\";\n",
                            "  font-size: 11px;\n",
                            "  width: 15px;\n",
                            "  text-align: center;\n",
                            "}\n",
                            "\n",
                            ".xr-section-summary-in:disabled + label:before {\n",
                            "  color: var(--xr-disabled-color);\n",
                            "}\n",
                            "\n",
                            ".xr-section-summary-in:checked + label:before {\n",
                            "  content: \"▼\";\n",
                            "}\n",
                            "\n",
                            ".xr-section-summary-in:checked + label > span {\n",
                            "  display: none;\n",
                            "}\n",
                            "\n",
                            ".xr-section-summary,\n",
                            ".xr-section-inline-details {\n",
                            "  padding-top: 4px;\n",
                            "  padding-bottom: 4px;\n",
                            "}\n",
                            "\n",
                            ".xr-section-inline-details {\n",
                            "  grid-column: 2 / -1;\n",
                            "}\n",
                            "\n",
                            ".xr-section-details {\n",
                            "  display: none;\n",
                            "  grid-column: 1 / -1;\n",
                            "  margin-bottom: 5px;\n",
                            "}\n",
                            "\n",
                            ".xr-section-summary-in:checked ~ .xr-section-details {\n",
                            "  display: contents;\n",
                            "}\n",
                            "\n",
                            ".xr-array-wrap {\n",
                            "  grid-column: 1 / -1;\n",
                            "  display: grid;\n",
                            "  grid-template-columns: 20px auto;\n",
                            "}\n",
                            "\n",
                            ".xr-array-wrap > label {\n",
                            "  grid-column: 1;\n",
                            "  vertical-align: top;\n",
                            "}\n",
                            "\n",
                            ".xr-preview {\n",
                            "  color: var(--xr-font-color3);\n",
                            "}\n",
                            "\n",
                            ".xr-array-preview,\n",
                            ".xr-array-data {\n",
                            "  padding: 0 5px !important;\n",
                            "  grid-column: 2;\n",
                            "}\n",
                            "\n",
                            ".xr-array-data,\n",
                            ".xr-array-in:checked ~ .xr-array-preview {\n",
                            "  display: none;\n",
                            "}\n",
                            "\n",
                            ".xr-array-in:checked ~ .xr-array-data,\n",
                            ".xr-array-preview {\n",
                            "  display: inline-block;\n",
                            "}\n",
                            "\n",
                            ".xr-dim-list {\n",
                            "  display: inline-block !important;\n",
                            "  list-style: none;\n",
                            "  padding: 0 !important;\n",
                            "  margin: 0;\n",
                            "}\n",
                            "\n",
                            ".xr-dim-list li {\n",
                            "  display: inline-block;\n",
                            "  padding: 0;\n",
                            "  margin: 0;\n",
                            "}\n",
                            "\n",
                            ".xr-dim-list:before {\n",
                            "  content: \"(\";\n",
                            "}\n",
                            "\n",
                            ".xr-dim-list:after {\n",
                            "  content: \")\";\n",
                            "}\n",
                            "\n",
                            ".xr-dim-list li:not(:last-child):after {\n",
                            "  content: \",\";\n",
                            "  padding-right: 5px;\n",
                            "}\n",
                            "\n",
                            ".xr-has-index {\n",
                            "  font-weight: bold;\n",
                            "}\n",
                            "\n",
                            ".xr-var-list,\n",
                            ".xr-var-item {\n",
                            "  display: contents;\n",
                            "}\n",
                            "\n",
                            ".xr-var-item > div,\n",
                            ".xr-var-item label,\n",
                            ".xr-var-item > .xr-var-name span {\n",
                            "  background-color: var(--xr-background-color-row-even);\n",
                            "  margin-bottom: 0;\n",
                            "}\n",
                            "\n",
                            ".xr-var-item > .xr-var-name:hover span {\n",
                            "  padding-right: 5px;\n",
                            "}\n",
                            "\n",
                            ".xr-var-list > li:nth-child(odd) > div,\n",
                            ".xr-var-list > li:nth-child(odd) > label,\n",
                            ".xr-var-list > li:nth-child(odd) > .xr-var-name span {\n",
                            "  background-color: var(--xr-background-color-row-odd);\n",
                            "}\n",
                            "\n",
                            ".xr-var-name {\n",
                            "  grid-column: 1;\n",
                            "}\n",
                            "\n",
                            ".xr-var-dims {\n",
                            "  grid-column: 2;\n",
                            "}\n",
                            "\n",
                            ".xr-var-dtype {\n",
                            "  grid-column: 3;\n",
                            "  text-align: right;\n",
                            "  color: var(--xr-font-color2);\n",
                            "}\n",
                            "\n",
                            ".xr-var-preview {\n",
                            "  grid-column: 4;\n",
                            "}\n",
                            "\n",
                            ".xr-index-preview {\n",
                            "  grid-column: 2 / 5;\n",
                            "  color: var(--xr-font-color2);\n",
                            "}\n",
                            "\n",
                            ".xr-var-name,\n",
                            ".xr-var-dims,\n",
                            ".xr-var-dtype,\n",
                            ".xr-preview,\n",
                            ".xr-attrs dt {\n",
                            "  white-space: nowrap;\n",
                            "  overflow: hidden;\n",
                            "  text-overflow: ellipsis;\n",
                            "  padding-right: 10px;\n",
                            "}\n",
                            "\n",
                            ".xr-var-name:hover,\n",
                            ".xr-var-dims:hover,\n",
                            ".xr-var-dtype:hover,\n",
                            ".xr-attrs dt:hover {\n",
                            "  overflow: visible;\n",
                            "  width: auto;\n",
                            "  z-index: 1;\n",
                            "}\n",
                            "\n",
                            ".xr-var-attrs,\n",
                            ".xr-var-data,\n",
                            ".xr-index-data {\n",
                            "  display: none;\n",
                            "  background-color: var(--xr-background-color) !important;\n",
                            "  padding-bottom: 5px !important;\n",
                            "}\n",
                            "\n",
                            ".xr-var-attrs-in:checked ~ .xr-var-attrs,\n",
                            ".xr-var-data-in:checked ~ .xr-var-data,\n",
                            ".xr-index-data-in:checked ~ .xr-index-data {\n",
                            "  display: block;\n",
                            "}\n",
                            "\n",
                            ".xr-var-data > table {\n",
                            "  float: right;\n",
                            "}\n",
                            "\n",
                            ".xr-var-name span,\n",
                            ".xr-var-data,\n",
                            ".xr-index-name div,\n",
                            ".xr-index-data,\n",
                            ".xr-attrs {\n",
                            "  padding-left: 25px !important;\n",
                            "}\n",
                            "\n",
                            ".xr-attrs,\n",
                            ".xr-var-attrs,\n",
                            ".xr-var-data,\n",
                            ".xr-index-data {\n",
                            "  grid-column: 1 / -1;\n",
                            "}\n",
                            "\n",
                            "dl.xr-attrs {\n",
                            "  padding: 0;\n",
                            "  margin: 0;\n",
                            "  display: grid;\n",
                            "  grid-template-columns: 125px auto;\n",
                            "}\n",
                            "\n",
                            ".xr-attrs dt,\n",
                            ".xr-attrs dd {\n",
                            "  padding: 0;\n",
                            "  margin: 0;\n",
                            "  float: left;\n",
                            "  padding-right: 10px;\n",
                            "  width: auto;\n",
                            "}\n",
                            "\n",
                            ".xr-attrs dt {\n",
                            "  font-weight: normal;\n",
                            "  grid-column: 1;\n",
                            "}\n",
                            "\n",
                            ".xr-attrs dt:hover span {\n",
                            "  display: inline-block;\n",
                            "  background: var(--xr-background-color);\n",
                            "  padding-right: 10px;\n",
                            "}\n",
                            "\n",
                            ".xr-attrs dd {\n",
                            "  grid-column: 2;\n",
                            "  white-space: pre-wrap;\n",
                            "  word-break: break-all;\n",
                            "}\n",
                            "\n",
                            ".xr-icon-database,\n",
                            ".xr-icon-file-text2,\n",
                            ".xr-no-icon {\n",
                            "  display: inline-block;\n",
                            "  vertical-align: middle;\n",
                            "  width: 1em;\n",
                            "  height: 1.5em !important;\n",
                            "  stroke-width: 0;\n",
                            "  stroke: currentColor;\n",
                            "  fill: currentColor;\n",
                            "}\n",
                            "</style><pre class='xr-text-repr-fallback'>&lt;xarray.DataArray &#x27;snow_cover&#x27; (time: 1, y: 212, x: 235)&gt; Size: 399kB\n",
                            "dask.array&lt;reproject, shape=(1, 212, 235), dtype=float64, chunksize=(1, 212, 235), chunktype=numpy.ndarray&gt;\n",
                            "Coordinates:\n",
                            "  * time         (time) datetime64[ns] 8B 2021-07-15\n",
                            "    nodata       float64 8B nan\n",
                            "  * y            (y) float64 2kB 5.213e+06 5.213e+06 ... 5.209e+06 5.209e+06\n",
                            "  * x            (x) float64 2kB 6.563e+05 6.564e+05 ... 6.61e+05 6.61e+05\n",
                            "    spatial_ref  int32 4B 25832\n",
                            "Attributes:\n",
                            "    AREA_OR_POINT:  Area</pre><div class='xr-wrap' style='display:none'><div class='xr-header'><div class='xr-obj-type'>xarray.DataArray</div><div class='xr-array-name'>'snow_cover'</div><ul class='xr-dim-list'><li><span class='xr-has-index'>time</span>: 1</li><li><span class='xr-has-index'>y</span>: 212</li><li><span class='xr-has-index'>x</span>: 235</li></ul></div><ul class='xr-sections'><li class='xr-section-item'><div class='xr-array-wrap'><input id='section-257825c1-86be-4d9b-a022-33bab81433b7' class='xr-array-in' type='checkbox' checked><label for='section-257825c1-86be-4d9b-a022-33bab81433b7' title='Show/hide data repr'><svg class='icon xr-icon-database'><use xlink:href='#icon-database'></use></svg></label><div class='xr-array-preview xr-preview'><span>dask.array&lt;chunksize=(1, 212, 235), meta=np.ndarray&gt;</span></div><div class='xr-array-data'><table>\n",
                            "    <tr>\n",
                            "        <td>\n",
                            "            <table style=\"border-collapse: collapse;\">\n",
                            "                <thead>\n",
                            "                    <tr>\n",
                            "                        <td> </td>\n",
                            "                        <th> Array </th>\n",
                            "                        <th> Chunk </th>\n",
                            "                    </tr>\n",
                            "                </thead>\n",
                            "                <tbody>\n",
                            "                    \n",
                            "                    <tr>\n",
                            "                        <th> Bytes </th>\n",
                            "                        <td> 389.22 kiB </td>\n",
                            "                        <td> 389.22 kiB </td>\n",
                            "                    </tr>\n",
                            "                    \n",
                            "                    <tr>\n",
                            "                        <th> Shape </th>\n",
                            "                        <td> (1, 212, 235) </td>\n",
                            "                        <td> (1, 212, 235) </td>\n",
                            "                    </tr>\n",
                            "                    <tr>\n",
                            "                        <th> Dask graph </th>\n",
                            "                        <td colspan=\"2\"> 1 chunks in 5 graph layers </td>\n",
                            "                    </tr>\n",
                            "                    <tr>\n",
                            "                        <th> Data type </th>\n",
                            "                        <td colspan=\"2\"> float64 numpy.ndarray </td>\n",
                            "                    </tr>\n",
                            "                </tbody>\n",
                            "            </table>\n",
                            "        </td>\n",
                            "        <td>\n",
                            "        <svg width=\"194\" height=\"173\" style=\"stroke:rgb(0,0,0);stroke-width:1\" >\n",
                            "\n",
                            "  <!-- Horizontal lines -->\n",
                            "  <line x1=\"10\" y1=\"0\" x2=\"24\" y2=\"14\" style=\"stroke-width:2\" />\n",
                            "  <line x1=\"10\" y1=\"108\" x2=\"24\" y2=\"123\" style=\"stroke-width:2\" />\n",
                            "\n",
                            "  <!-- Vertical lines -->\n",
                            "  <line x1=\"10\" y1=\"0\" x2=\"10\" y2=\"108\" style=\"stroke-width:2\" />\n",
                            "  <line x1=\"24\" y1=\"14\" x2=\"24\" y2=\"123\" style=\"stroke-width:2\" />\n",
                            "\n",
                            "  <!-- Colored Rectangle -->\n",
                            "  <polygon points=\"10.0,0.0 24.9485979497544,14.948597949754403 24.9485979497544,123.20391709869058 10.0,108.25531914893618\" style=\"fill:#ECB172A0;stroke-width:0\"/>\n",
                            "\n",
                            "  <!-- Horizontal lines -->\n",
                            "  <line x1=\"10\" y1=\"0\" x2=\"130\" y2=\"0\" style=\"stroke-width:2\" />\n",
                            "  <line x1=\"24\" y1=\"14\" x2=\"144\" y2=\"14\" style=\"stroke-width:2\" />\n",
                            "\n",
                            "  <!-- Vertical lines -->\n",
                            "  <line x1=\"10\" y1=\"0\" x2=\"24\" y2=\"14\" style=\"stroke-width:2\" />\n",
                            "  <line x1=\"130\" y1=\"0\" x2=\"144\" y2=\"14\" style=\"stroke-width:2\" />\n",
                            "\n",
                            "  <!-- Colored Rectangle -->\n",
                            "  <polygon points=\"10.0,0.0 130.0,0.0 144.9485979497544,14.948597949754403 24.9485979497544,14.948597949754403\" style=\"fill:#ECB172A0;stroke-width:0\"/>\n",
                            "\n",
                            "  <!-- Horizontal lines -->\n",
                            "  <line x1=\"24\" y1=\"14\" x2=\"144\" y2=\"14\" style=\"stroke-width:2\" />\n",
                            "  <line x1=\"24\" y1=\"123\" x2=\"144\" y2=\"123\" style=\"stroke-width:2\" />\n",
                            "\n",
                            "  <!-- Vertical lines -->\n",
                            "  <line x1=\"24\" y1=\"14\" x2=\"24\" y2=\"123\" style=\"stroke-width:2\" />\n",
                            "  <line x1=\"144\" y1=\"14\" x2=\"144\" y2=\"123\" style=\"stroke-width:2\" />\n",
                            "\n",
                            "  <!-- Colored Rectangle -->\n",
                            "  <polygon points=\"24.9485979497544,14.948597949754403 144.9485979497544,14.948597949754403 144.9485979497544,123.20391709869058 24.9485979497544,123.20391709869058\" style=\"fill:#ECB172A0;stroke-width:0\"/>\n",
                            "\n",
                            "  <!-- Text -->\n",
                            "  <text x=\"84.948598\" y=\"143.203917\" font-size=\"1.0rem\" font-weight=\"100\" text-anchor=\"middle\" >235</text>\n",
                            "  <text x=\"164.948598\" y=\"69.076258\" font-size=\"1.0rem\" font-weight=\"100\" text-anchor=\"middle\" transform=\"rotate(-90,164.948598,69.076258)\">212</text>\n",
                            "  <text x=\"7.474299\" y=\"135.729618\" font-size=\"1.0rem\" font-weight=\"100\" text-anchor=\"middle\" transform=\"rotate(45,7.474299,135.729618)\">1</text>\n",
                            "</svg>\n",
                            "        </td>\n",
                            "    </tr>\n",
                            "</table></div></div></li><li class='xr-section-item'><input id='section-6f71f6f5-7dbc-4424-a193-db922a28d9a0' class='xr-section-summary-in' type='checkbox'  checked><label for='section-6f71f6f5-7dbc-4424-a193-db922a28d9a0' class='xr-section-summary' >Coordinates: <span>(5)</span></label><div class='xr-section-inline-details'></div><div class='xr-section-details'><ul class='xr-var-list'><li class='xr-var-item'><div class='xr-var-name'><span class='xr-has-index'>time</span></div><div class='xr-var-dims'>(time)</div><div class='xr-var-dtype'>datetime64[ns]</div><div class='xr-var-preview xr-preview'>2021-07-15</div><input id='attrs-a60acede-7a07-4cf1-9fb3-3d872c7b1b74' class='xr-var-attrs-in' type='checkbox' disabled><label for='attrs-a60acede-7a07-4cf1-9fb3-3d872c7b1b74' title='Show/Hide attributes'><svg class='icon xr-icon-file-text2'><use xlink:href='#icon-file-text2'></use></svg></label><input id='data-2c6a1f8f-2c26-4f99-8595-c3088e2e7d47' class='xr-var-data-in' type='checkbox'><label for='data-2c6a1f8f-2c26-4f99-8595-c3088e2e7d47' title='Show/Hide data repr'><svg class='icon xr-icon-database'><use xlink:href='#icon-database'></use></svg></label><div class='xr-var-attrs'><dl class='xr-attrs'></dl></div><div class='xr-var-data'><pre>array([&#x27;2021-07-15T00:00:00.000000000&#x27;], dtype=&#x27;datetime64[ns]&#x27;)</pre></div></li><li class='xr-var-item'><div class='xr-var-name'><span>nodata</span></div><div class='xr-var-dims'>()</div><div class='xr-var-dtype'>float64</div><div class='xr-var-preview xr-preview'>nan</div><input id='attrs-8430a557-6a1f-48cc-8b34-107edd134c29' class='xr-var-attrs-in' type='checkbox' disabled><label for='attrs-8430a557-6a1f-48cc-8b34-107edd134c29' title='Show/Hide attributes'><svg class='icon xr-icon-file-text2'><use xlink:href='#icon-file-text2'></use></svg></label><input id='data-274f6a85-c5fa-4163-9cc7-925ff48493dc' class='xr-var-data-in' type='checkbox'><label for='data-274f6a85-c5fa-4163-9cc7-925ff48493dc' title='Show/Hide data repr'><svg class='icon xr-icon-database'><use xlink:href='#icon-database'></use></svg></label><div class='xr-var-attrs'><dl class='xr-attrs'></dl></div><div class='xr-var-data'><pre>array(nan)</pre></div></li><li class='xr-var-item'><div class='xr-var-name'><span class='xr-has-index'>y</span></div><div class='xr-var-dims'>(y)</div><div class='xr-var-dtype'>float64</div><div class='xr-var-preview xr-preview'>5.213e+06 5.213e+06 ... 5.209e+06</div><input id='attrs-e2b2d26d-4bd5-4154-a168-b21a0958a9ff' class='xr-var-attrs-in' type='checkbox' ><label for='attrs-e2b2d26d-4bd5-4154-a168-b21a0958a9ff' title='Show/Hide attributes'><svg class='icon xr-icon-file-text2'><use xlink:href='#icon-file-text2'></use></svg></label><input id='data-ff07911a-05f7-4f9c-a712-2bd3cee8b184' class='xr-var-data-in' type='checkbox'><label for='data-ff07911a-05f7-4f9c-a712-2bd3cee8b184' title='Show/Hide data repr'><svg class='icon xr-icon-database'><use xlink:href='#icon-database'></use></svg></label><div class='xr-var-attrs'><dl class='xr-attrs'><dt><span>units :</span></dt><dd>metre</dd><dt><span>resolution :</span></dt><dd>-20.0</dd><dt><span>crs :</span></dt><dd>EPSG:25832</dd></dl></div><div class='xr-var-data'><pre>array([5213470., 5213450., 5213430., ..., 5209290., 5209270., 5209250.],\n",
                            "      shape=(212,))</pre></div></li><li class='xr-var-item'><div class='xr-var-name'><span class='xr-has-index'>x</span></div><div class='xr-var-dims'>(x)</div><div class='xr-var-dtype'>float64</div><div class='xr-var-preview xr-preview'>6.563e+05 6.564e+05 ... 6.61e+05</div><input id='attrs-56a0a034-2be2-4a11-8d22-cc58c44bbedd' class='xr-var-attrs-in' type='checkbox' ><label for='attrs-56a0a034-2be2-4a11-8d22-cc58c44bbedd' title='Show/Hide attributes'><svg class='icon xr-icon-file-text2'><use xlink:href='#icon-file-text2'></use></svg></label><input id='data-f001bd53-8396-468c-9f07-1a14c9d12948' class='xr-var-data-in' type='checkbox'><label for='data-f001bd53-8396-468c-9f07-1a14c9d12948' title='Show/Hide data repr'><svg class='icon xr-icon-database'><use xlink:href='#icon-database'></use></svg></label><div class='xr-var-attrs'><dl class='xr-attrs'><dt><span>units :</span></dt><dd>metre</dd><dt><span>resolution :</span></dt><dd>20.0</dd><dt><span>crs :</span></dt><dd>EPSG:25832</dd></dl></div><div class='xr-var-data'><pre>array([656330., 656350., 656370., ..., 660970., 660990., 661010.], shape=(235,))</pre></div></li><li class='xr-var-item'><div class='xr-var-name'><span>spatial_ref</span></div><div class='xr-var-dims'>()</div><div class='xr-var-dtype'>int32</div><div class='xr-var-preview xr-preview'>25832</div><input id='attrs-e031c749-8439-4344-97af-fe56068d82d3' class='xr-var-attrs-in' type='checkbox' ><label for='attrs-e031c749-8439-4344-97af-fe56068d82d3' title='Show/Hide attributes'><svg class='icon xr-icon-file-text2'><use xlink:href='#icon-file-text2'></use></svg></label><input id='data-8e1772e2-d481-4b31-aeea-175480929771' class='xr-var-data-in' type='checkbox'><label for='data-8e1772e2-d481-4b31-aeea-175480929771' title='Show/Hide data repr'><svg class='icon xr-icon-database'><use xlink:href='#icon-database'></use></svg></label><div class='xr-var-attrs'><dl class='xr-attrs'><dt><span>spatial_ref :</span></dt><dd>PROJCRS[&quot;ETRS89 / UTM zone 32N&quot;,BASEGEOGCRS[&quot;ETRS89&quot;,DATUM[&quot;European Terrestrial Reference System 1989&quot;,ELLIPSOID[&quot;GRS 1980&quot;,6378137,298.257222101,LENGTHUNIT[&quot;metre&quot;,1]]],PRIMEM[&quot;Greenwich&quot;,0,ANGLEUNIT[&quot;degree&quot;,0.0174532925199433]],ID[&quot;EPSG&quot;,4258]],CONVERSION[&quot;UTM zone 32N&quot;,METHOD[&quot;Transverse Mercator&quot;,ID[&quot;EPSG&quot;,9807]],PARAMETER[&quot;Latitude of natural origin&quot;,0,ANGLEUNIT[&quot;degree&quot;,0.0174532925199433],ID[&quot;EPSG&quot;,8801]],PARAMETER[&quot;Longitude of natural origin&quot;,9,ANGLEUNIT[&quot;degree&quot;,0.0174532925199433],ID[&quot;EPSG&quot;,8802]],PARAMETER[&quot;Scale factor at natural origin&quot;,0.9996,SCALEUNIT[&quot;unity&quot;,1],ID[&quot;EPSG&quot;,8805]],PARAMETER[&quot;False easting&quot;,500000,LENGTHUNIT[&quot;metre&quot;,1],ID[&quot;EPSG&quot;,8806]],PARAMETER[&quot;False northing&quot;,0,LENGTHUNIT[&quot;metre&quot;,1],ID[&quot;EPSG&quot;,8807]]],CS[Cartesian,2],AXIS[&quot;(E)&quot;,east,ORDER[1],LENGTHUNIT[&quot;metre&quot;,1]],AXIS[&quot;(N)&quot;,north,ORDER[2],LENGTHUNIT[&quot;metre&quot;,1]],USAGE[SCOPE[&quot;Engineering survey, topographic mapping.&quot;],AREA[&quot;Europe between 6°E and 12°E: Austria; Denmark - onshore and offshore; Germany - onshore and offshore; Italy - onshore and offshore; Norway including Svalbard - onshore and offshore; Spain - offshore.&quot;],BBOX[36.53,6,84.01,12.01]],USAGE[SCOPE[&quot;Pan-European conformal mapping at scales larger than 1:500,000.&quot;],AREA[&quot;Europe between 6°E and 12°E and approximately 36°30&#x27;N to 84°N.&quot;],BBOX[36.53,6,84.01,12.01]],ID[&quot;EPSG&quot;,25832]]</dd><dt><span>crs_wkt :</span></dt><dd>PROJCRS[&quot;ETRS89 / UTM zone 32N&quot;,BASEGEOGCRS[&quot;ETRS89&quot;,DATUM[&quot;European Terrestrial Reference System 1989&quot;,ELLIPSOID[&quot;GRS 1980&quot;,6378137,298.257222101,LENGTHUNIT[&quot;metre&quot;,1]]],PRIMEM[&quot;Greenwich&quot;,0,ANGLEUNIT[&quot;degree&quot;,0.0174532925199433]],ID[&quot;EPSG&quot;,4258]],CONVERSION[&quot;UTM zone 32N&quot;,METHOD[&quot;Transverse Mercator&quot;,ID[&quot;EPSG&quot;,9807]],PARAMETER[&quot;Latitude of natural origin&quot;,0,ANGLEUNIT[&quot;degree&quot;,0.0174532925199433],ID[&quot;EPSG&quot;,8801]],PARAMETER[&quot;Longitude of natural origin&quot;,9,ANGLEUNIT[&quot;degree&quot;,0.0174532925199433],ID[&quot;EPSG&quot;,8802]],PARAMETER[&quot;Scale factor at natural origin&quot;,0.9996,SCALEUNIT[&quot;unity&quot;,1],ID[&quot;EPSG&quot;,8805]],PARAMETER[&quot;False easting&quot;,500000,LENGTHUNIT[&quot;metre&quot;,1],ID[&quot;EPSG&quot;,8806]],PARAMETER[&quot;False northing&quot;,0,LENGTHUNIT[&quot;metre&quot;,1],ID[&quot;EPSG&quot;,8807]]],CS[Cartesian,2],AXIS[&quot;(E)&quot;,east,ORDER[1],LENGTHUNIT[&quot;metre&quot;,1]],AXIS[&quot;(N)&quot;,north,ORDER[2],LENGTHUNIT[&quot;metre&quot;,1]],USAGE[SCOPE[&quot;Engineering survey, topographic mapping.&quot;],AREA[&quot;Europe between 6°E and 12°E: Austria; Denmark - onshore and offshore; Germany - onshore and offshore; Italy - onshore and offshore; Norway including Svalbard - onshore and offshore; Spain - offshore.&quot;],BBOX[36.53,6,84.01,12.01]],USAGE[SCOPE[&quot;Pan-European conformal mapping at scales larger than 1:500,000.&quot;],AREA[&quot;Europe between 6°E and 12°E and approximately 36°30&#x27;N to 84°N.&quot;],BBOX[36.53,6,84.01,12.01]],ID[&quot;EPSG&quot;,25832]]</dd><dt><span>semi_major_axis :</span></dt><dd>6378137.0</dd><dt><span>semi_minor_axis :</span></dt><dd>6356752.314140356</dd><dt><span>inverse_flattening :</span></dt><dd>298.257222101</dd><dt><span>reference_ellipsoid_name :</span></dt><dd>GRS 1980</dd><dt><span>longitude_of_prime_meridian :</span></dt><dd>0.0</dd><dt><span>prime_meridian_name :</span></dt><dd>Greenwich</dd><dt><span>geographic_crs_name :</span></dt><dd>ETRS89</dd><dt><span>horizontal_datum_name :</span></dt><dd>European Terrestrial Reference System 1989</dd><dt><span>projected_crs_name :</span></dt><dd>ETRS89 / UTM zone 32N</dd><dt><span>grid_mapping_name :</span></dt><dd>transverse_mercator</dd><dt><span>latitude_of_projection_origin :</span></dt><dd>0.0</dd><dt><span>longitude_of_central_meridian :</span></dt><dd>9.0</dd><dt><span>false_easting :</span></dt><dd>500000.0</dd><dt><span>false_northing :</span></dt><dd>0.0</dd><dt><span>scale_factor_at_central_meridian :</span></dt><dd>0.9996</dd><dt><span>GeoTransform :</span></dt><dd>656320 20 0 5213480 0 -20</dd></dl></div><div class='xr-var-data'><pre>array(25832, dtype=int32)</pre></div></li></ul></div></li><li class='xr-section-item'><input id='section-f99d262d-4422-4e8c-bbb8-d12d8e68e59e' class='xr-section-summary-in' type='checkbox'  ><label for='section-f99d262d-4422-4e8c-bbb8-d12d8e68e59e' class='xr-section-summary' >Indexes: <span>(3)</span></label><div class='xr-section-inline-details'></div><div class='xr-section-details'><ul class='xr-var-list'><li class='xr-var-item'><div class='xr-index-name'><div>time</div></div><div class='xr-index-preview'>PandasIndex</div><input type='checkbox' disabled/><label></label><input id='index-82f486f6-f065-4f68-83f1-2de966cbdb10' class='xr-index-data-in' type='checkbox'/><label for='index-82f486f6-f065-4f68-83f1-2de966cbdb10' title='Show/Hide index repr'><svg class='icon xr-icon-database'><use xlink:href='#icon-database'></use></svg></label><div class='xr-index-data'><pre>PandasIndex(DatetimeIndex([&#x27;2021-07-15&#x27;], dtype=&#x27;datetime64[ns]&#x27;, name=&#x27;time&#x27;, freq=None))</pre></div></li><li class='xr-var-item'><div class='xr-index-name'><div>y</div></div><div class='xr-index-preview'>PandasIndex</div><input type='checkbox' disabled/><label></label><input id='index-4370e690-d7f0-4631-ba4a-5c329f5826dc' class='xr-index-data-in' type='checkbox'/><label for='index-4370e690-d7f0-4631-ba4a-5c329f5826dc' title='Show/Hide index repr'><svg class='icon xr-icon-database'><use xlink:href='#icon-database'></use></svg></label><div class='xr-index-data'><pre>PandasIndex(Index([5213470.0, 5213450.0, 5213430.0, 5213410.0, 5213390.0, 5213370.0,\n",
                            "       5213350.0, 5213330.0, 5213310.0, 5213290.0,\n",
                            "       ...\n",
                            "       5209430.0, 5209410.0, 5209390.0, 5209370.0, 5209350.0, 5209330.0,\n",
                            "       5209310.0, 5209290.0, 5209270.0, 5209250.0],\n",
                            "      dtype=&#x27;float64&#x27;, name=&#x27;y&#x27;, length=212))</pre></div></li><li class='xr-var-item'><div class='xr-index-name'><div>x</div></div><div class='xr-index-preview'>PandasIndex</div><input type='checkbox' disabled/><label></label><input id='index-e4f0d8a0-ea62-4064-ad45-234028212fdb' class='xr-index-data-in' type='checkbox'/><label for='index-e4f0d8a0-ea62-4064-ad45-234028212fdb' title='Show/Hide index repr'><svg class='icon xr-icon-database'><use xlink:href='#icon-database'></use></svg></label><div class='xr-index-data'><pre>PandasIndex(Index([656330.0, 656350.0, 656370.0, 656390.0, 656410.0, 656430.0, 656450.0,\n",
                            "       656470.0, 656490.0, 656510.0,\n",
                            "       ...\n",
                            "       660830.0, 660850.0, 660870.0, 660890.0, 660910.0, 660930.0, 660950.0,\n",
                            "       660970.0, 660990.0, 661010.0],\n",
                            "      dtype=&#x27;float64&#x27;, name=&#x27;x&#x27;, length=235))</pre></div></li></ul></div></li><li class='xr-section-item'><input id='section-a903f4d1-3ac1-4b23-b182-f4155931a16f' class='xr-section-summary-in' type='checkbox'  checked><label for='section-a903f4d1-3ac1-4b23-b182-f4155931a16f' class='xr-section-summary' >Attributes: <span>(1)</span></label><div class='xr-section-inline-details'></div><div class='xr-section-details'><dl class='xr-attrs'><dt><span>AREA_OR_POINT :</span></dt><dd>Area</dd></dl></div></li></ul></div></div>"
                        ],
                        "text/plain": [
                            "<xarray.DataArray 'snow_cover' (time: 1, y: 212, x: 235)> Size: 399kB\n",
                            "dask.array<reproject, shape=(1, 212, 235), dtype=float64, chunksize=(1, 212, 235), chunktype=numpy.ndarray>\n",
                            "Coordinates:\n",
                            "  * time         (time) datetime64[ns] 8B 2021-07-15\n",
                            "    nodata       float64 8B nan\n",
                            "  * y            (y) float64 2kB 5.213e+06 5.213e+06 ... 5.209e+06 5.209e+06\n",
                            "  * x            (x) float64 2kB 6.563e+05 6.564e+05 ... 6.61e+05 6.61e+05\n",
                            "    spatial_ref  int32 4B 25832\n",
                            "Attributes:\n",
                            "    AREA_OR_POINT:  Area"
                        ]
                    },
                    "execution_count": 18,
                    "metadata": {},
                    "output_type": "execute_result"
                }
            ],
            "source": [
                "snow_cover_downsampled"
            ]
        },
        {
            "cell_type": "code",
            "execution_count": 19,
            "metadata": {},
            "outputs": [
                {
                    "data": {
                        "text/plain": [
                            "<matplotlib.collections.QuadMesh at 0x73dbcc5e86e0>"
                        ]
                    },
                    "execution_count": 19,
                    "metadata": {},
                    "output_type": "execute_result"
                },
                {
                    "data": {
                        "image/png": "[encoded data removed]",
                        "text/plain": [
                            "<Figure size 640x480 with 2 Axes>"
                        ]
                    },
                    "metadata": {},
                    "output_type": "display_data"
                }
            ],
            "source": [
                "snow_cover_downsampled.plot()"
            ]
        }
    ],
    "metadata": {
        "kernelspec": {
            "display_name": "satpy",
            "language": "python",
            "name": "python3"
        },
        "language_info": {
            "codemirror_mode": {
                "name": "ipython",
                "version": 3
            },
            "file_extension": ".py",
            "mimetype": "text/x-python",
            "name": "python",
            "nbconvert_exporter": "python",
            "pygments_lexer": "ipython3",
            "version": "3.13.1"
        }
    },
    "nbformat": 4,
    "nbformat_minor": 2
}
