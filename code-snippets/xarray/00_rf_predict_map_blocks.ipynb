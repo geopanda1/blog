{
 "cells": [
  {
   "cell_type": "markdown",
   "metadata": {},
   "source": [
    "---\n",
    "title: \"ds.map_blocks(...)\"\n",
    "categories: [xarray]\n",
    "date: 2025-04-11\n",
    "---\n",
    "\n",
    "## Example on how to use `ds.map_blocks(...)` for pixel wise prediction\n",
    "\n",
    "This is the preferred version for chunk-wise processing of an xarray.Dataset"
   ]
  },
  {
   "cell_type": "code",
   "execution_count": null,
   "metadata": {},
   "outputs": [],
   "source": [
    "import dask.array as da\n",
    "import xarray as xr\n",
    "import numpy as np\n",
    "from sklearn.ensemble import RandomForestClassifier as RF"
   ]
  },
  {
   "cell_type": "code",
   "execution_count": null,
   "metadata": {},
   "outputs": [],
   "source": [
    "n_features = 50"
   ]
  },
  {
   "cell_type": "code",
   "execution_count": null,
   "metadata": {},
   "outputs": [],
   "source": [
    "n_samples = 1000\n",
    "# random training data\n",
    "X_train = da.random.random((n_samples, n_features))\n",
    "y_train = da.random.randint(0, 2, n_samples)\n",
    "\n",
    "rf = RF(random_state=42, n_estimators=50, n_jobs=-1)\n",
    "rf.fit(X_train, y_train)"
   ]
  },
  {
   "cell_type": "code",
   "execution_count": null,
   "metadata": {},
   "outputs": [],
   "source": [
    "# random training data\n",
    "lat = np.arange(4000)\n",
    "lon = np.arange(6000)\n",
    "time = np.arange(n_features)\n",
    "data = da.random.random((lat.size, lon.size, time.size))"
   ]
  },
  {
   "cell_type": "code",
   "execution_count": null,
   "metadata": {},
   "outputs": [],
   "source": [
    "ds = xr.DataArray(\n",
    "    data, coords=[lat, lon, time], dims=[\"lat\", \"lon\", \"time\"], name=\"test\"\n",
    ").to_dataset()"
   ]
  },
  {
   "cell_type": "code",
   "execution_count": null,
   "metadata": {},
   "outputs": [],
   "source": [
    "def generic_func(ds: xr.Dataset):\n",
    "    ds_stacked = ds.stack(ml=(\"lat\", \"lon\")).transpose(\"ml\", \"time\")\n",
    "\n",
    "    # predict on input data\n",
    "    X = ds_stacked.test.data\n",
    "    y_hat_1d = rf.predict(X)\n",
    "    y_hat_2d = y_hat_1d.reshape((ds.lat.size, ds.lon.size))\n",
    "\n",
    "    data_out = ds.isel(time=[0]).squeeze().copy(deep=True)\n",
    "    data_out.test.data = y_hat_2d\n",
    "\n",
    "    return data_out"
   ]
  },
  {
   "cell_type": "code",
   "execution_count": null,
   "metadata": {},
   "outputs": [],
   "source": [
    "ds_pred = ds.map_blocks(generic_func, template=ds.isel(time=[0]).squeeze())"
   ]
  },
  {
   "cell_type": "code",
   "execution_count": null,
   "metadata": {},
   "outputs": [],
   "source": [
    "ds_pred"
   ]
  },
  {
   "cell_type": "code",
   "execution_count": null,
   "metadata": {},
   "outputs": [],
   "source": [
    "ds_pred = ds_pred.compute()"
   ]
  }
 ],
 "metadata": {
  "kernelspec": {
   "display_name": "ee2",
   "language": "python",
   "name": "python3"
  },
  "language_info": {
   "codemirror_mode": {
    "name": "ipython",
    "version": 3
   },
   "file_extension": ".py",
   "mimetype": "text/x-python",
   "name": "python",
   "nbconvert_exporter": "python",
   "pygments_lexer": "ipython3",
   "version": "3.10.8"
  }
 },
 "nbformat": 4,
 "nbformat_minor": 2
}
