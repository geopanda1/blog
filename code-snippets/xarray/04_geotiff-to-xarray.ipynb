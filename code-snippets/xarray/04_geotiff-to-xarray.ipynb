{
 "cells": [
  {
   "cell_type": "markdown",
   "id": "bdfdd8ac",
   "metadata": {},
   "source": [
    "---\n",
    "title: \"Geotiff-to-xarray\"\n",
    "# categories: [xarray]\n",
    "# date: 2025-04-28\n",
    "---\n",
    "\n",
    "Generate a `xarray.Dataset` from a list of geotiffs."
   ]
  },
  {
   "cell_type": "code",
   "execution_count": 1,
   "id": "dd176451",
   "metadata": {},
   "outputs": [],
   "source": [
    "from pathlib import Path\n",
    "import datetime\n",
    "\n",
    "import xarray as xr\n",
    "import rioxarray"
   ]
  },
  {
   "cell_type": "code",
   "execution_count": 2,
   "id": "213907fe",
   "metadata": {},
   "outputs": [
    {
     "name": "stdout",
     "output_type": "stream",
     "text": [
      "2025.3.1\n",
      "0.18.2\n"
     ]
    }
   ],
   "source": [
    "print(xr.__version__)\n",
    "print(rioxarray.__version__)"
   ]
  },
  {
   "cell_type": "code",
   "execution_count": null,
   "id": "2810da4e",
   "metadata": {},
   "outputs": [],
   "source": [
    "geotiff_dir = Path(\"...\")"
   ]
  },
  {
   "cell_type": "code",
   "execution_count": null,
   "id": "5568c297",
   "metadata": {},
   "outputs": [],
   "source": [
    "def get_date(filename: Path) -> datetime.datetime:\n",
    "    \"\"\"Parse date from filename - adapt to your needs\"\"\"\n",
    "    f = filename.stem\n",
    "    date_str = f.split(\"_\")[-1]\n",
    "    return datetime.datetime.strptime(date_str, \"%Y-%m-%d\")"
   ]
  },
  {
   "cell_type": "markdown",
   "id": "96a03b9c",
   "metadata": {},
   "source": [
    "### Get list of geotiffs"
   ]
  },
  {
   "cell_type": "code",
   "execution_count": null,
   "id": "20ebf50b",
   "metadata": {},
   "outputs": [],
   "source": [
    "geotiffs = list(geotiff_dir.glob(\"*.tif\"))\n",
    "geotiffs.sort(key=get_date)"
   ]
  },
  {
   "cell_type": "markdown",
   "id": "33cfc1af",
   "metadata": {},
   "source": [
    "### Perform the actual read\n",
    "\n",
    "Important: The geotiffs themselves have to be tiled to enable chunked loading/processing ([see this github issue](https://github.com/pydata/xarray/issues/2314#issuecomment-417412405)), just setting `chunks={...}` in `.open_rasterio` is not sufficient."
   ]
  },
  {
   "cell_type": "code",
   "execution_count": null,
   "id": "7ae4593c",
   "metadata": {},
   "outputs": [],
   "source": [
    "da_s = [\n",
    "    rioxarray.open_rasterio(\n",
    "        raster,\n",
    "        default_name=\"snow_cover\",\n",
    "        chunks={\"band\": 1, \"x\": 1024, \"y\": 1024},\n",
    "    ).squeeze(dim=\"band\", drop=True)\n",
    "    for raster in geotiffs\n",
    "]"
   ]
  },
  {
   "cell_type": "code",
   "execution_count": null,
   "id": "9ec03c8e",
   "metadata": {},
   "outputs": [],
   "source": [
    "time_var = xr.Variable(\"time\", [get_date(img) for img in geotiffs])"
   ]
  },
  {
   "cell_type": "markdown",
   "id": "908cd618",
   "metadata": {},
   "source": [
    "### Concatenate aling time dimension"
   ]
  },
  {
   "cell_type": "code",
   "execution_count": null,
   "id": "deb55ccf",
   "metadata": {},
   "outputs": [],
   "source": [
    "ds = xr.concat(da_s, dim=time_var).to_dataset()"
   ]
  },
  {
   "cell_type": "code",
   "execution_count": null,
   "id": "08f6a288",
   "metadata": {},
   "outputs": [],
   "source": [
    "# write source directory into attributes to preserve the origin\n",
    "ds.attrs[\"base_dir\"] = geotiff_dir.as_posix()"
   ]
  },
  {
   "cell_type": "markdown",
   "id": "ccf41051",
   "metadata": {},
   "source": [
    "### Write to disk as zarr"
   ]
  },
  {
   "cell_type": "code",
   "execution_count": null,
   "id": "611ccf48",
   "metadata": {},
   "outputs": [],
   "source": [
    "ds.to_zarr(\"data.zarr\")"
   ]
  }
 ],
 "metadata": {
  "kernelspec": {
   "display_name": "satpy",
   "language": "python",
   "name": "python3"
  },
  "language_info": {
   "codemirror_mode": {
    "name": "ipython",
    "version": 3
   },
   "file_extension": ".py",
   "mimetype": "text/x-python",
   "name": "python",
   "nbconvert_exporter": "python",
   "pygments_lexer": "ipython3",
   "version": "3.13.1"
  }
 },
 "nbformat": 4,
 "nbformat_minor": 5
}
