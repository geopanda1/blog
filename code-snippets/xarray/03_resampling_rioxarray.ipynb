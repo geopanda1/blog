{
 "cells": [
  {
   "cell_type": "markdown",
   "id": "77bc053a",
   "metadata": {},
   "source": [
    "---\n",
    "title: \"Resampling rioxarray\"\n",
    "categories: [xarray]\n",
    "date: 2025-04-11\n",
    "---\n",
    "\n",
    "tbc"
   ]
  }
 ],
 "metadata": {
  "language_info": {
   "name": "python"
  }
 },
 "nbformat": 4,
 "nbformat_minor": 5
}
