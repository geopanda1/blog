{
    "cells": [
        {
            "cell_type": "markdown",
            "metadata": {
                "vscode": {
                    "languageId": "plaintext"
                }
            },
            "source": [
                "---\n",
                "title: \"stac-asset\"\n",
                "categories: [data-download]\n",
                "date: 2025-04-24\n",
                "---\n",
                "\n",
                "## Download Sentinel-2 via command line using stac-asset\n",
                "\n",
                "* requires installation of the [stac-asset library](https://github.com/stac-utils/stac-asset)   \n",
                "* quickly download stac items via python interface or command line"
            ]
        },
        {
            "cell_type": "code",
            "execution_count": 1,
            "metadata": {},
            "outputs": [],
            "source": [
                "import os\n",
                "from pathlib import Path\n",
                "\n",
                "from pystac_client import Client\n",
                "import planetary_computer\n",
                "\n",
                "from bounding_box import lon_min, lat_min, lon_max, lat_max"
            ]
        },
        {
            "cell_type": "code",
            "execution_count": 2,
            "metadata": {},
            "outputs": [],
            "source": [
                "data_dir = Path(\"./\")\n",
                "out_dir = data_dir / \"s2_data_stac-asset\"\n",
                "out_dir.mkdir()"
            ]
        },
        {
            "cell_type": "markdown",
            "metadata": {},
            "source": [
                "## Query some items"
            ]
        },
        {
            "cell_type": "code",
            "execution_count": 3,
            "metadata": {},
            "outputs": [
                {
                    "name": "stdout",
                    "output_type": "stream",
                    "text": [
                        "Found: 4 datasets\n"
                    ]
                }
            ],
            "source": [
                "catalog = Client.open(\n",
                "    \"https://planetarycomputer.microsoft.com/api/stac/v1\",\n",
                "    modifier=planetary_computer.sign_inplace,  # not strictly necessary for finding the items!\n",
                ")\n",
                "\n",
                "query = catalog.search(\n",
                "    collections=[\"sentinel-2-l2a\"],\n",
                "    bbox=[lon_min, lat_min, lon_max, lat_max],\n",
                "    datetime=\"2024-07-01/2024-07-30\",\n",
                "    query={\n",
                "        \"eo:cloud_cover\": {\"lt\": 20},\n",
                "    },\n",
                ")\n",
                "\n",
                "items = list(query.items())\n",
                "print(f\"Found: {len(items):d} datasets\")"
            ]
        },
        {
            "cell_type": "code",
            "execution_count": 4,
            "metadata": {},
            "outputs": [
                {
                    "name": "stdout",
                    "output_type": "stream",
                    "text": [
                        "https://planetarycomputer.microsoft.com/api/stac/v1/collections/sentinel-2-l2a/items/S2A_MSIL2A_20240729T102021_R065_T32TPS_20240729T194952\n"
                    ]
                }
            ],
            "source": [
                "link_to_item = items[0].links[3].href\n",
                "\n",
                "print(link_to_item)"
            ]
        },
        {
            "cell_type": "code",
            "execution_count": null,
            "metadata": {},
            "outputs": [],
            "source": [
                "# resides in dedicated environment to avoid dependency conflicts\n",
                "stac_asset_path = \"/home/<user>/miniconda3/envs/stac/bin/stac-asset\""
            ]
        },
        {
            "cell_type": "code",
            "execution_count": 6,
            "metadata": {},
            "outputs": [],
            "source": [
                "cmd = f\"{stac_asset_path} download {link_to_item} {out_dir}\""
            ]
        },
        {
            "cell_type": "code",
            "execution_count": 8,
            "metadata": {},
            "outputs": [
                {
                    "name": "stderr",
                    "output_type": "stream",
                    "text": [
                        "22/23: 100%|█████████▉| 1.74G/1.74G [00:50<00:00, 12.6MB/s, 0 errors]"
                    ]
                },
                {
                    "name": "stdout",
                    "output_type": "stream",
                    "text": [
                        "{\"type\": \"Feature\", \"stac_version\": \"1.0.0\", \"stac_extensions\": [\"https://stac-extensions.github.io/eo/v1.0.0/schema.json\", \"https://stac-extensions.github.io/sat/v1.0.0/schema.json\", \"https://stac-extensions.github.io/projection/v1.0.0/schema.json\"], \"id\": \"S2A_MSIL2A_20240729T102021_R065_T32TPS_20240729T194952\", \"geometry\": {\"type\": \"Polygon\", \"coordinates\": [[[11.7520729, 46.8502664], [11.6924991, 46.7092583], [11.6277754, 46.564301], [11.5660321, 46.4186793], [11.5041944, 46.2732403], [11.4406416, 46.1284109], [11.3787445, 45.983333], [11.3613307, 45.9395307], [10.2904841, 45.9582645], [10.3140353, 46.9461683], [11.7555849, 46.9205364], [11.7520729, 46.8502664]]]}, \"bbox\": [10.2904841, 45.9395307, 11.7555849, 46.9461683], \"properties\": {\"datetime\": \"2024-07-29T10:20:21.025000Z\", \"platform\": \"Sentinel-2A\", \"proj:epsg\": 32632, \"instruments\": [\"msi\"], \"s2:mgrs_tile\": \"32TPS\", \"constellation\": \"Sentinel 2\", \"s2:granule_id\": \"S2A_OPER_MSI_L2A_TL_2APS_20240729T194952_A047538_T32TPS_N05.11\", \"eo:cloud_cover\": 16.663046, \"s2:datatake_id\": \"GS2A_20240729T102021_047538_N05.11\", \"s2:product_uri\": \"S2A_MSIL2A_20240729T102021_N0511_R065_T32TPS_20240729T194952.SAFE\", \"s2:datastrip_id\": \"S2A_OPER_MSI_L2A_DS_2APS_20240729T194952_S20240729T102559_N05.11\", \"s2:product_type\": \"S2MSI2A\", \"sat:orbit_state\": \"descending\", \"s2:datatake_type\": \"INS-NOBS\", \"s2:generation_time\": \"2024-07-29T19:49:52.000000Z\", \"sat:relative_orbit\": 65, \"s2:water_percentage\": 0.341176, \"s2:mean_solar_zenith\": 30.0395059052058, \"s2:mean_solar_azimuth\": 153.55374565552, \"s2:processing_baseline\": \"05.11\", \"s2:snow_ice_percentage\": 1.480092, \"s2:vegetation_percentage\": 63.926095, \"s2:thin_cirrus_percentage\": 0.036718, \"s2:cloud_shadow_percentage\": 1.713186, \"s2:nodata_pixel_percentage\": 11.29414, \"s2:unclassified_percentage\": 0.794875, \"s2:not_vegetated_percentage\": 12.102448, \"s2:degraded_msi_data_percentage\": 0.0256, \"s2:high_proba_clouds_percentage\": 9.40951, \"s2:reflectance_conversion_factor\": 0.969413241562976, \"s2:medium_proba_clouds_percentage\": 7.216818, \"s2:saturated_defective_pixel_percentage\": 0.0}, \"links\": [{\"rel\": \"collection\", \"href\": \"https://planetarycomputer.microsoft.com/api/stac/v1/collections/sentinel-2-l2a\", \"type\": \"application/json\"}, {\"rel\": \"parent\", \"href\": \"https://planetarycomputer.microsoft.com/api/stac/v1/collections/sentinel-2-l2a\", \"type\": \"application/json\"}, {\"rel\": \"root\", \"href\": \"https://planetarycomputer.microsoft.com/api/stac/v1/\", \"type\": \"application/json\"}, {\"rel\": \"license\", \"href\": \"https://sentinel.esa.int/documents/247904/690755/Sentinel_Data_Legal_Notice\"}, {\"rel\": \"preview\", \"href\": \"https://planetarycomputer.microsoft.com/api/data/v1/item/map?collection=sentinel-2-l2a&item=S2A_MSIL2A_20240729T102021_R065_T32TPS_20240729T194952\", \"type\": \"text/html\", \"title\": \"Map of item\"}, {\"rel\": \"derived_from\", \"href\": \"https://planetarycomputer.microsoft.com/api/stac/v1/collections/sentinel-2-l2a/items/S2A_MSIL2A_20240729T102021_R065_T32TPS_20240729T194952\"}], \"assets\": {\"AOT\": {\"href\": \"s2_data_stac-asset/T32TPS_20240729T102021_AOT_10m.tif\", \"type\": \"image/tiff; application=geotiff; profile=cloud-optimized\", \"title\": \"Aerosol optical thickness (AOT)\", \"proj:bbox\": [600000.0, 5090220.0, 709800.0, 5200020.0], \"proj:shape\": [10980, 10980], \"proj:transform\": [10.0, 0.0, 600000.0, 0.0, -10.0, 5200020.0], \"gsd\": 10.0, \"roles\": [\"data\"]}, \"B01\": {\"href\": \"s2_data_stac-asset/T32TPS_20240729T102021_B01_60m.tif\", \"type\": \"image/tiff; application=geotiff; profile=cloud-optimized\", \"title\": \"Band 1 - Coastal aerosol - 60m\", \"proj:bbox\": [600000.0, 5090220.0, 709800.0, 5200020.0], \"proj:shape\": [1830, 1830], \"proj:transform\": [60.0, 0.0, 600000.0, 0.0, -60.0, 5200020.0], \"gsd\": 60.0, \"eo:bands\": [{\"name\": \"B01\", \"common_name\": \"coastal\", \"description\": \"Band 1 - Coastal aerosol\", \"center_wavelength\": 0.443, \"full_width_half_max\": 0.027}], \"roles\": [\"data\"]}, \"B02\": {\"href\": \"s2_data_stac-asset/T32TPS_20240729T102021_B02_10m.tif\", \"type\": \"image/tiff; application=geotiff; profile=cloud-optimized\", \"title\": \"Band 2 - Blue - 10m\", \"proj:bbox\": [600000.0, 5090220.0, 709800.0, 5200020.0], \"proj:shape\": [10980, 10980], \"proj:transform\": [10.0, 0.0, 600000.0, 0.0, -10.0, 5200020.0], \"gsd\": 10.0, \"eo:bands\": [{\"name\": \"B02\", \"common_name\": \"blue\", \"description\": \"Band 2 - Blue\", \"center_wavelength\": 0.49, \"full_width_half_max\": 0.098}], \"roles\": [\"data\"]}, \"B03\": {\"href\": \"s2_data_stac-asset/T32TPS_20240729T102021_B03_10m.tif\", \"type\": \"image/tiff; application=geotiff; profile=cloud-optimized\", \"title\": \"Band 3 - Green - 10m\", \"proj:bbox\": [600000.0, 5090220.0, 709800.0, 5200020.0], \"proj:shape\": [10980, 10980], \"proj:transform\": [10.0, 0.0, 600000.0, 0.0, -10.0, 5200020.0], \"gsd\": 10.0, \"eo:bands\": [{\"name\": \"B03\", \"common_name\": \"green\", \"description\": \"Band 3 - Green\", \"center_wavelength\": 0.56, \"full_width_half_max\": 0.045}], \"roles\": [\"data\"]}, \"B04\": {\"href\": \"s2_data_stac-asset/T32TPS_20240729T102021_B04_10m.tif\", \"type\": \"image/tiff; application=geotiff; profile=cloud-optimized\", \"title\": \"Band 4 - Red - 10m\", \"proj:bbox\": [600000.0, 5090220.0, 709800.0, 5200020.0], \"proj:shape\": [10980, 10980], \"proj:transform\": [10.0, 0.0, 600000.0, 0.0, -10.0, 5200020.0], \"gsd\": 10.0, \"eo:bands\": [{\"name\": \"B04\", \"common_name\": \"red\", \"description\": \"Band 4 - Red\", \"center_wavelength\": 0.665, \"full_width_half_max\": 0.038}], \"roles\": [\"data\"]}, \"B05\": {\"href\": \"s2_data_stac-asset/T32TPS_20240729T102021_B05_20m.tif\", \"type\": \"image/tiff; application=geotiff; profile=cloud-optimized\", \"title\": \"Band 5 - Vegetation red edge 1 - 20m\", \"proj:bbox\": [600000.0, 5090220.0, 709800.0, 5200020.0], \"proj:shape\": [5490, 5490], \"proj:transform\": [20.0, 0.0, 600000.0, 0.0, -20.0, 5200020.0], \"gsd\": 20.0, \"eo:bands\": [{\"name\": \"B05\", \"common_name\": \"rededge\", \"description\": \"Band 5 - Vegetation red edge 1\", \"center_wavelength\": 0.704, \"full_width_half_max\": 0.019}], \"roles\": [\"data\"]}, \"B06\": {\"href\": \"s2_data_stac-asset/T32TPS_20240729T102021_B06_20m.tif\", \"type\": \"image/tiff; application=geotiff; profile=cloud-optimized\", \"title\": \"Band 6 - Vegetation red edge 2 - 20m\", \"proj:bbox\": [600000.0, 5090220.0, 709800.0, 5200020.0], \"proj:shape\": [5490, 5490], \"proj:transform\": [20.0, 0.0, 600000.0, 0.0, -20.0, 5200020.0], \"gsd\": 20.0, \"eo:bands\": [{\"name\": \"B06\", \"common_name\": \"rededge\", \"description\": \"Band 6 - Vegetation red edge 2\", \"center_wavelength\": 0.74, \"full_width_half_max\": 0.018}], \"roles\": [\"data\"]}, \"B07\": {\"href\": \"s2_data_stac-asset/T32TPS_20240729T102021_B07_20m.tif\", \"type\": \"image/tiff; application=geotiff; profile=cloud-optimized\", \"title\": \"Band 7 - Vegetation red edge 3 - 20m\", \"proj:bbox\": [600000.0, 5090220.0, 709800.0, 5200020.0], \"proj:shape\": [5490, 5490], \"proj:transform\": [20.0, 0.0, 600000.0, 0.0, -20.0, 5200020.0], \"gsd\": 20.0, \"eo:bands\": [{\"name\": \"B07\", \"common_name\": \"rededge\", \"description\": \"Band 7 - Vegetation red edge 3\", \"center_wavelength\": 0.783, \"full_width_half_max\": 0.028}], \"roles\": [\"data\"]}, \"B08\": {\"href\": \"s2_data_stac-asset/T32TPS_20240729T102021_B08_10m.tif\", \"type\": \"image/tiff; application=geotiff; profile=cloud-optimized\", \"title\": \"Band 8 - NIR - 10m\", \"proj:bbox\": [600000.0, 5090220.0, 709800.0, 5200020.0], \"proj:shape\": [10980, 10980], \"proj:transform\": [10.0, 0.0, 600000.0, 0.0, -10.0, 5200020.0], \"gsd\": 10.0, \"eo:bands\": [{\"name\": \"B08\", \"common_name\": \"nir\", \"description\": \"Band 8 - NIR\", \"center_wavelength\": 0.842, \"full_width_half_max\": 0.145}], \"roles\": [\"data\"]}, \"B09\": {\"href\": \"s2_data_stac-asset/T32TPS_20240729T102021_B09_60m.tif\", \"type\": \"image/tiff; application=geotiff; profile=cloud-optimized\", \"title\": \"Band 9 - Water vapor - 60m\", \"proj:bbox\": [600000.0, 5090220.0, 709800.0, 5200020.0], \"proj:shape\": [1830, 1830], \"proj:transform\": [60.0, 0.0, 600000.0, 0.0, -60.0, 5200020.0], \"gsd\": 60.0, \"eo:bands\": [{\"name\": \"B09\", \"description\": \"Band 9 - Water vapor\", \"center_wavelength\": 0.945, \"full_width_half_max\": 0.026}], \"roles\": [\"data\"]}, \"B11\": {\"href\": \"s2_data_stac-asset/T32TPS_20240729T102021_B11_20m.tif\", \"type\": \"image/tiff; application=geotiff; profile=cloud-optimized\", \"title\": \"Band 11 - SWIR (1.6) - 20m\", \"proj:bbox\": [600000.0, 5090220.0, 709800.0, 5200020.0], \"proj:shape\": [5490, 5490], \"proj:transform\": [20.0, 0.0, 600000.0, 0.0, -20.0, 5200020.0], \"gsd\": 20.0, \"eo:bands\": [{\"name\": \"B11\", \"common_name\": \"swir16\", \"description\": \"Band 11 - SWIR (1.6)\", \"center_wavelength\": 1.61, \"full_width_half_max\": 0.143}], \"roles\": [\"data\"]}, \"B12\": {\"href\": \"s2_data_stac-asset/T32TPS_20240729T102021_B12_20m.tif\", \"type\": \"image/tiff; application=geotiff; profile=cloud-optimized\", \"title\": \"Band 12 - SWIR (2.2) - 20m\", \"proj:bbox\": [600000.0, 5090220.0, 709800.0, 5200020.0], \"proj:shape\": [5490, 5490], \"proj:transform\": [20.0, 0.0, 600000.0, 0.0, -20.0, 5200020.0], \"gsd\": 20.0, \"eo:bands\": [{\"name\": \"B12\", \"common_name\": \"swir22\", \"description\": \"Band 12 - SWIR (2.2)\", \"center_wavelength\": 2.19, \"full_width_half_max\": 0.242}], \"roles\": [\"data\"]}, \"B8A\": {\"href\": \"s2_data_stac-asset/T32TPS_20240729T102021_B8A_20m.tif\", \"type\": \"image/tiff; application=geotiff; profile=cloud-optimized\", \"title\": \"Band 8A - Vegetation red edge 4 - 20m\", \"proj:bbox\": [600000.0, 5090220.0, 709800.0, 5200020.0], \"proj:shape\": [5490, 5490], \"proj:transform\": [20.0, 0.0, 600000.0, 0.0, -20.0, 5200020.0], \"gsd\": 20.0, \"eo:bands\": [{\"name\": \"B8A\", \"common_name\": \"rededge\", \"description\": \"Band 8A - Vegetation red edge 4\", \"center_wavelength\": 0.865, \"full_width_half_max\": 0.033}], \"roles\": [\"data\"]}, \"SCL\": {\"href\": \"s2_data_stac-asset/T32TPS_20240729T102021_SCL_20m.tif\", \"type\": \"image/tiff; application=geotiff; profile=cloud-optimized\", \"title\": \"Scene classfication map (SCL)\", \"proj:bbox\": [600000.0, 5090220.0, 709800.0, 5200020.0], \"proj:shape\": [5490, 5490], \"proj:transform\": [20.0, 0.0, 600000.0, 0.0, -20.0, 5200020.0], \"gsd\": 20.0, \"roles\": [\"data\"]}, \"WVP\": {\"href\": \"s2_data_stac-asset/T32TPS_20240729T102021_WVP_10m.tif\", \"type\": \"image/tiff; application=geotiff; profile=cloud-optimized\", \"title\": \"Water vapour (WVP)\", \"proj:bbox\": [600000.0, 5090220.0, 709800.0, 5200020.0], \"proj:shape\": [10980, 10980], \"proj:transform\": [10.0, 0.0, 600000.0, 0.0, -10.0, 5200020.0], \"gsd\": 10.0, \"roles\": [\"data\"]}, \"visual\": {\"href\": \"s2_data_stac-asset/T32TPS_20240729T102021_TCI_10m.tif\", \"type\": \"image/tiff; application=geotiff; profile=cloud-optimized\", \"title\": \"True color image\", \"proj:bbox\": [600000.0, 5090220.0, 709800.0, 5200020.0], \"proj:shape\": [10980, 10980], \"proj:transform\": [10.0, 0.0, 600000.0, 0.0, -10.0, 5200020.0], \"gsd\": 10.0, \"eo:bands\": [{\"name\": \"B04\", \"common_name\": \"red\", \"description\": \"Band 4 - Red\", \"center_wavelength\": 0.665, \"full_width_half_max\": 0.038}, {\"name\": \"B03\", \"common_name\": \"green\", \"description\": \"Band 3 - Green\", \"center_wavelength\": 0.56, \"full_width_half_max\": 0.045}, {\"name\": \"B02\", \"common_name\": \"blue\", \"description\": \"Band 2 - Blue\", \"center_wavelength\": 0.49, \"full_width_half_max\": 0.098}], \"roles\": [\"data\"]}, \"safe-manifest\": {\"href\": \"s2_data_stac-asset/manifest.safe\", \"type\": \"application/xml\", \"title\": \"SAFE manifest\", \"roles\": [\"metadata\"]}, \"granule-metadata\": {\"href\": \"s2_data_stac-asset/MTD_TL.xml\", \"type\": \"application/xml\", \"title\": \"Granule metadata\", \"roles\": [\"metadata\"]}, \"inspire-metadata\": {\"href\": \"s2_data_stac-asset/INSPIRE.xml\", \"type\": \"application/xml\", \"title\": \"INSPIRE metadata\", \"roles\": [\"metadata\"]}, \"product-metadata\": {\"href\": \"s2_data_stac-asset/MTD_MSIL2A.xml\", \"type\": \"application/xml\", \"title\": \"Product metadata\", \"roles\": [\"metadata\"]}, \"datastrip-metadata\": {\"href\": \"s2_data_stac-asset/MTD_DS.xml\", \"type\": \"application/xml\", \"title\": \"Datastrip metadata\", \"roles\": [\"metadata\"]}, \"tilejson\": {\"href\": \"s2_data_stac-asset/tilejson.json\", \"type\": \"application/json\", \"title\": \"TileJSON with default rendering\", \"roles\": [\"tiles\"]}, \"rendered_preview\": {\"href\": \"s2_data_stac-asset/preview.png\", \"type\": \"image/png\", \"title\": \"Rendered preview\", \"rel\": \"preview\", \"roles\": [\"overview\"]}}, \"collection\": \"sentinel-2-l2a\"}"
                    ]
                },
                {
                    "name": "stderr",
                    "output_type": "stream",
                    "text": [
                        "                                                                     \n",
                        "\n",
                        "23/23: 100%|██████████| 1.74G/1.74G [00:51<00:00, 36.7MB/s, 0 errors]\n"
                    ]
                },
                {
                    "data": {
                        "text/plain": [
                            "0"
                        ]
                    },
                    "execution_count": 8,
                    "metadata": {},
                    "output_type": "execute_result"
                }
            ],
            "source": [
                "os.system(cmd)"
            ]
        }
    ],
    "metadata": {
        "kernelspec": {
            "display_name": "microclim",
            "language": "python",
            "name": "python3"
        },
        "language_info": {
            "codemirror_mode": {
                "name": "ipython",
                "version": 3
            },
            "file_extension": ".py",
            "mimetype": "text/x-python",
            "name": "python",
            "nbconvert_exporter": "python",
            "pygments_lexer": "ipython3",
            "version": "3.10.16"
        }
    },
    "nbformat": 4,
    "nbformat_minor": 2
}
