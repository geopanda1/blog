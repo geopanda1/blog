{
 "cells": [
  {
   "cell_type": "markdown",
   "metadata": {},
   "source": [
    "---\n",
    "title: \"odc.stack.stac_load\"\n",
    "categories: [data-download]\n",
    "date: 2025-04-24\n",
    "---\n",
    "\n",
    "## Query Sentinel-2 data via odc.stac.stac_load into xarray.Dataset"
   ]
  },
  {
   "cell_type": "code",
   "execution_count": null,
   "metadata": {},
   "outputs": [],
   "source": [
    "from pystac_client import Client\n",
    "import planetary_computer\n",
    "from odc.stac import stac_load\n",
    "\n",
    "from bounding_box import *"
   ]
  },
  {
   "cell_type": "markdown",
   "metadata": {},
   "source": [
    "*Set `modifier` in client, otherwise the search will succeed, but data access not*"
   ]
  },
  {
   "cell_type": "code",
   "execution_count": null,
   "metadata": {},
   "outputs": [],
   "source": [
    "catalog = Client.open(\n",
    "    \"https://planetarycomputer.microsoft.com/api/stac/v1\",\n",
    "    modifier=planetary_computer.sign_inplace,\n",
    ")\n",
    "\n",
    "query = catalog.search(\n",
    "    collections=[\"sentinel-2-l2a\"],\n",
    "    bbox=[lon_min, lat_min, lon_max, lat_max],\n",
    "    datetime=\"2024-07-01\",\n",
    ")\n",
    "\n",
    "items = list(query.items())\n",
    "print(f\"Found: {len(items):d} datasets\")"
   ]
  },
  {
   "cell_type": "markdown",
   "metadata": {},
   "source": [
    "*Remember to set the `chunks`, otherwise the data will be loaded eagerly!*"
   ]
  },
  {
   "cell_type": "code",
   "execution_count": null,
   "metadata": {},
   "outputs": [],
   "source": [
    "chunk_size = 1024\n",
    "\n",
    "ds = stac_load(\n",
    "    items,\n",
    "    bands=(\"B04\", \"B03\", \"B02\", \"B08\"),\n",
    "    resolution=10,\n",
    "    chunks={\"time\": 1, \"x\": chunk_size, \"y\": chunk_size} # this prevents eager loading of data\n",
    ")\n",
    "ds"
   ]
  },
  {
   "cell_type": "code",
   "execution_count": null,
   "metadata": {},
   "outputs": [],
   "source": [
    "ds = ds.sel(x=slice(x_min, x_max), y=slice(y_max, y_min))"
   ]
  },
  {
   "cell_type": "code",
   "execution_count": null,
   "metadata": {},
   "outputs": [],
   "source": [
    "ds = ds.isel(time=[0]) # just take first timestep to reduce amount of data"
   ]
  },
  {
   "cell_type": "code",
   "execution_count": null,
   "metadata": {},
   "outputs": [],
   "source": [
    "# load data into memory if desired\n",
    "ds.load()"
   ]
  },
  {
   "cell_type": "code",
   "execution_count": null,
   "metadata": {},
   "outputs": [],
   "source": [
    "ds[\"B04\"].squeeze().plot.imshow()"
   ]
  },
  {
   "cell_type": "markdown",
   "metadata": {},
   "source": [
    "... write to disk, if necessary ..."
   ]
  }
 ],
 "metadata": {
  "kernelspec": {
   "display_name": "satpy",
   "language": "python",
   "name": "python3"
  },
  "language_info": {
   "codemirror_mode": {
    "name": "ipython",
    "version": 3
   },
   "file_extension": ".py",
   "mimetype": "text/x-python",
   "name": "python",
   "nbconvert_exporter": "python",
   "pygments_lexer": "ipython3",
   "version": "3.13.1"
  }
 },
 "nbformat": 4,
 "nbformat_minor": 2
}
