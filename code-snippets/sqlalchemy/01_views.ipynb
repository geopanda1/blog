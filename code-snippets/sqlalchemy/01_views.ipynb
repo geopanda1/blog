{
 "cells": [
  {
   "cell_type": "markdown",
   "id": "c099aade",
   "metadata": {},
   "source": [
    "---\n",
    "title: \"View with model\"\n",
    "categories: [sqlalchemy]\n",
    "image: \"image.jpg\"\n",
    "---\n",
    "\n",
    "How do create a view with a proper model."
   ]
  }
 ],
 "metadata": {
  "language_info": {
   "name": "python"
  }
 },
 "nbformat": 4,
 "nbformat_minor": 5
}
