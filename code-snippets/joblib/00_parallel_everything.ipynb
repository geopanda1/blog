{
 "cells": [
  {
   "cell_type": "markdown",
   "id": "10223d53",
   "metadata": {},
   "source": [
    "---\n",
    "title: \"Multithreading and -processing with joblib\"\n",
    "# categories: [parallel]\n",
    "# date: 2025-04-16\n",
    "---"
   ]
  },
  {
   "cell_type": "code",
   "execution_count": 2,
   "id": "c1e6819e",
   "metadata": {},
   "outputs": [],
   "source": [
    "from joblib import Parallel, delayed"
   ]
  },
  {
   "cell_type": "markdown",
   "id": "e747d1e4",
   "metadata": {},
   "source": [
    "Create a function to be executed in parallel:"
   ]
  },
  {
   "cell_type": "code",
   "execution_count": null,
   "id": "e60240a6",
   "metadata": {},
   "outputs": [],
   "source": [
    "def my_embarassingly_parallel_job(arg):\n",
    "    # perform work...\n",
    "    return"
   ]
  },
  {
   "cell_type": "markdown",
   "id": "7271a417",
   "metadata": {},
   "source": [
    "Uses the default \"loky\" backend for process based parallelism:"
   ]
  },
  {
   "cell_type": "code",
   "execution_count": 3,
   "id": "2f5a6eea",
   "metadata": {},
   "outputs": [],
   "source": [
    "results = Parallel(n_jobs=2)(\n",
    "    delayed(my_embarassingly_parallel_job)(i) for i in range(10)\n",
    ")"
   ]
  },
  {
   "cell_type": "markdown",
   "id": "cad3e65e",
   "metadata": {},
   "source": [
    "Thread-based parallelism:"
   ]
  },
  {
   "cell_type": "code",
   "execution_count": 4,
   "id": "a8c7ec40",
   "metadata": {},
   "outputs": [],
   "source": [
    "results = Parallel(n_jobs=2, prefer=\"threads\")(\n",
    "    delayed(my_embarassingly_parallel_job)(i) for i in range(10)\n",
    ")"
   ]
  }
 ],
 "metadata": {
  "kernelspec": {
   "display_name": "satpy",
   "language": "python",
   "name": "python3"
  },
  "language_info": {
   "codemirror_mode": {
    "name": "ipython",
    "version": 3
   },
   "file_extension": ".py",
   "mimetype": "text/x-python",
   "name": "python",
   "nbconvert_exporter": "python",
   "pygments_lexer": "ipython3",
   "version": "3.13.1"
  }
 },
 "nbformat": 4,
 "nbformat_minor": 5
}
