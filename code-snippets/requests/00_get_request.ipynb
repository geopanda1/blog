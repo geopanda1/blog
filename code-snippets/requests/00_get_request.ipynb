{
 "cells": [
  {
   "cell_type": "markdown",
   "id": "808513b6",
   "metadata": {},
   "source": [
    "---\n",
    "title: \"requests module\"\n",
    "categories: [requests]\n",
    "date: 2025-04-16\n",
    "---"
   ]
  },
  {
   "cell_type": "markdown",
   "id": "652a2cb4",
   "metadata": {},
   "source": [
    "```python\n",
    "import requests\n",
    "\n",
    "url = \"....\"\n",
    "\n",
    "r = requests.get(url)\n",
    "\n",
    "# retrieve status code\n",
    "r.status_code \n",
    "\n",
    "# retrieve json formatted response\n",
    "r.json()\n",
    "\n",
    "# write non-binary output\n",
    "with (\"out-file.txt\", \"w\") as fobj:\n",
    "    fobj.write(r.content)\n",
    "\n",
    "\n",
    "# write binary output (e.g., for zip-files and other binary formats)\n",
    "with (\"out-file\", \"wb\") as fobj:\n",
    "    fobj.write(r.content)\n",
    "```"
   ]
  },
  {
   "cell_type": "markdown",
   "id": "99a3acb1",
   "metadata": {},
   "source": [
    "Recursive request in case of non-successful return code:"
   ]
  },
  {
   "cell_type": "markdown",
   "id": "704acfbf",
   "metadata": {},
   "source": [
    "```python\n",
    "\n",
    "url = \"....\"\n",
    "\n",
    "def request_until_success(url):\n",
    "    r = requests.get(url)\n",
    "\n",
    "    if r. status_code != 200:\n",
    "        # possibly delay renewed requests here ...\n",
    "\n",
    "        return request_until_success(url)\n",
    "\n",
    "    return r\n",
    "```"
   ]
  }
 ],
 "metadata": {
  "language_info": {
   "name": "python"
  }
 },
 "nbformat": 4,
 "nbformat_minor": 5
}
