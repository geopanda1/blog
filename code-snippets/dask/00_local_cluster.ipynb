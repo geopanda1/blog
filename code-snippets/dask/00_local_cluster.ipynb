{
 "cells": [
  {
   "cell_type": "markdown",
   "metadata": {},
   "source": [
    "---\n",
    "title: \"Local cluster\"\n",
    "# categories: [dask]\n",
    "# date: 2025-04-11\n",
    "---"
   ]
  },
  {
   "cell_type": "code",
   "execution_count": 1,
   "metadata": {},
   "outputs": [],
   "source": [
    "import multiprocessing\n",
    "from dask.distributed import Client, LocalCluster"
   ]
  },
  {
   "cell_type": "markdown",
   "metadata": {},
   "source": [
    "### Setup up local dask cluster\n",
    "\n",
    "\n",
    "* possibly adjust number of threads per worker\n",
    "* don't forget to put the `Client(...)` in a `if __name__ == \"__main__\"` context when running from a script"
   ]
  },
  {
   "cell_type": "code",
   "execution_count": 2,
   "metadata": {},
   "outputs": [],
   "source": [
    "n_workers = multiprocessing.cpu_count()\n",
    "\n",
    "mem_buffer = 10 # how much memory will be spared from workers\n",
    "\n",
    "gb_total = 128 # total memory of machine\n",
    "gb_available = gb_total - mem_buffer # what is left for dask\n",
    "gb_per_worker = int(gb_total / n_workers) # memory for each dask worker"
   ]
  },
  {
   "cell_type": "code",
   "execution_count": 3,
   "metadata": {},
   "outputs": [],
   "source": [
    "client = Client(\n",
    "    address=LocalCluster(\n",
    "        n_workers=n_workers,\n",
    "        threads_per_worker=2,\n",
    "        interface=\"lo\",\n",
    "        memory_limit=f\"{gb_per_worker}GB\",\n",
    "    )\n",
    ")"
   ]
  },
  {
   "cell_type": "markdown",
   "metadata": {},
   "source": [
    "Inspect link to view dashboard"
   ]
  },
  {
   "cell_type": "code",
   "execution_count": 4,
   "metadata": {},
   "outputs": [
    {
     "name": "stdout",
     "output_type": "stream",
     "text": [
      "http://127.0.0.1:8787/status\n"
     ]
    }
   ],
   "source": [
    "print(client.dashboard_link)"
   ]
  }
 ],
 "metadata": {
  "kernelspec": {
   "display_name": "satpy",
   "language": "python",
   "name": "python3"
  },
  "language_info": {
   "codemirror_mode": {
    "name": "ipython",
    "version": 3
   },
   "file_extension": ".py",
   "mimetype": "text/x-python",
   "name": "python",
   "nbconvert_exporter": "python",
   "pygments_lexer": "ipython3",
   "version": "3.13.1"
  }
 },
 "nbformat": 4,
 "nbformat_minor": 2
}
